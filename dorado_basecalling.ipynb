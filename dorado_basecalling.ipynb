{
 "cells": [
  {
   "cell_type": "markdown",
   "id": "280c4391-8056-47c6-a2eb-5f8738c185ca",
   "metadata": {},
   "source": [
    "# Metafly: a whitefly metagenomics project\n",
    "By Cyrielle Ndougonna \\\n",
    "Supervision: Ezéchiel B. Tibiri & Fidèle Tiendrébéogo\n",
    "\n",
    "project aims: \\\n",
    "O1: characterise whitefly (_Bemisia tabaci_) genotypes circulating in the two study areas (Bonoua and N'Djem) \\\n",
    "O2: establish the diversity of viruses associated with whiteflies originating from Bonoua and N'Djem \\\n",
    "O3: catalogue the endosymbiotic bacteria associated with whiteflies originating from Bonoua and N'Djem\n",
    "\n",
    "This notebook describes the steps in the bioinformatics pipeline used for the analysis of whitefly Oxford Nanopore reads\n",
    "The analysis was executed on the UJKZ HPC.\n",
    "\n",
    "conventions: \\\n",
    "directory names in all caps \\\n",
    "file names with underscore and no caps"
   ]
  },
  {
   "cell_type": "markdown",
   "id": "4deabadc-1994-43a8-8137-c00046ec94fd",
   "metadata": {},
   "source": [
    "# A. Basecalling ONT reads with Dorado"
   ]
  },
  {
   "cell_type": "markdown",
   "id": "b95d13ac-1ca2-4c38-9b96-a38328b11815",
   "metadata": {},
   "source": [
    "## 1. Create working directories and import raw data files"
   ]
  },
  {
   "cell_type": "code",
   "execution_count": null,
   "id": "21ef7c69-4bd6-4539-9d41-8c71bdf0439d",
   "metadata": {},
   "outputs": [],
   "source": [
    "# connect to distant server\n",
    "ssh cndougonna@102.216.123.67\n",
    "scontrol show partitions"
   ]
  },
  {
   "cell_type": "code",
   "execution_count": null,
   "id": "c67a24be-6d3e-4472-bb64-c2569b30fc47",
   "metadata": {},
   "outputs": [],
   "source": [
    "# reserve a node and create personal folder in /scratch\n",
    "srun --ntasks=1 --cpus-per-task=8 --mem=32G --time=03:00:00 --pty bash -i\n",
    "mkdir -p /scratch/whitefly_ont_sequencing"
   ]
  },
  {
   "cell_type": "code",
   "execution_count": null,
   "id": "e790b3d7-a016-4cdc-8d08-ae41faaf463c",
   "metadata": {},
   "outputs": [],
   "source": [
    "# create data and basecalling directories\n",
    "mkdir -p /scratch/whitefly_ont_sequencing/raw_data\n",
    "mkdir -p /scratch/whitefly_ont_sequencing/basecalling"
   ]
  },
  {
   "cell_type": "code",
   "execution_count": null,
   "id": "6b293e26-1b4e-4c59-b6a6-c1f233f21b82",
   "metadata": {},
   "outputs": [],
   "source": [
    "# copy raw data from /home folder to /raw_data\n",
    "cd /scratch/whitefly_ont_sequencing/raw_data\n",
    "cp -r /home/cndougonna/whitefly/FAV02519 ./\n",
    "ls"
   ]
  },
  {
   "cell_type": "markdown",
   "id": "7d23028d-8661-4fe3-adfe-77d28674b197",
   "metadata": {},
   "source": [
    "## 2. Basecalling"
   ]
  },
  {
   "cell_type": "code",
   "execution_count": null,
   "id": "a040550d-7ee4-4d3e-b548-21f8d2b6ff59",
   "metadata": {},
   "outputs": [],
   "source": [
    "# load Dorado\n",
    "module load doradoxxxxxxxxxx\n",
    "module list"
   ]
  },
  {
   "cell_type": "code",
   "execution_count": null,
   "id": "1d5f9f97-7901-4668-90a2-9f7fea6bb7c5",
   "metadata": {},
   "outputs": [],
   "source": [
    "# print Dorado options\n",
    "dorado basecaller --help"
   ]
  },
  {
   "cell_type": "code",
   "execution_count": null,
   "id": "f461fa3b-2435-4e64-a67b-3d9db80206ca",
   "metadata": {},
   "outputs": [],
   "source": [
    "# list models available for download\n",
    "dorado download --list"
   ]
  },
  {
   "cell_type": "code",
   "execution_count": null,
   "id": "ecc80330-cdeb-4832-9142-e17bfc3d8eec",
   "metadata": {},
   "outputs": [],
   "source": [
    "# download appropriate model\n",
    "dorado download --model dna_r10.4.1_e8.2_400bps_sup@v5.0.0"
   ]
  },
  {
   "cell_type": "code",
   "execution_count": null,
   "id": "62f077a0-dbcd-4fa9-8dbc-06bee8d5eda7",
   "metadata": {},
   "outputs": [],
   "source": [
    "# there are 42 .pod5 files in total; create a loop to run the basecalling\n",
    "## dorado basecaller detects and removes adapter/primer/barcode sequences by default\n",
    "for FILE in /scratch/whitefly_ont_sequencing/raw_data/*.pod5; do FILENAME=$(FAV02519_6c0a1734_fba2136f_ \"$FILE\" .pod5); \\\n",
    "dorado basecaller --recursive dna_r10.4.1_e8.2_400bps_sup@v5.0.0 --emit-fastq \"$FILE\" > ./fastq/${FILENAME}.fastq; done"
   ]
  },
  {
   "cell_type": "markdown",
   "id": "6a524b18-a871-4063-8bca-80a11daf0482",
   "metadata": {},
   "source": [
    "# B. Quality control with NanoPlot"
   ]
  },
  {
   "cell_type": "markdown",
   "id": "e9be0944-5441-4c81-9ba7-324de4245083",
   "metadata": {},
   "source": [
    "## 1. Create working directory qc"
   ]
  },
  {
   "cell_type": "code",
   "execution_count": null,
   "id": "c281be26-eb85-461a-a064-d43ad9360808",
   "metadata": {},
   "outputs": [],
   "source": [
    "# create qc directory\n",
    "mkdir -p /scratch/whitefly_ont_sequencing/qc"
   ]
  },
  {
   "cell_type": "markdown",
   "id": "c7750abe-a5d7-4574-b020-fc7289385714",
   "metadata": {},
   "source": [
    "## 2. Run NanoPlot"
   ]
  },
  {
   "cell_type": "code",
   "execution_count": null,
   "id": "e1206e6c-1153-4452-80fb-6e5df3b4600c",
   "metadata": {},
   "outputs": [],
   "source": [
    "# print NanoPlot help menu\n",
    "NanoPlot --help"
   ]
  },
  {
   "cell_type": "code",
   "execution_count": null,
   "id": "1f725d3d-0aa5-4ee0-906c-41817eaff905",
   "metadata": {},
   "outputs": [],
   "source": [
    "#run NanoPlot\n",
    "NanoPlot -t 8 -o /scratch/whitefly_ont_sequencing/qc \\\n",
    "            --fastq /scratch/whitefly_ont_sequencing/basecalling/SQK-NBD114-96_barcode41.fastq \\\n",
    "            --plots kde hex dot\n",
    "### I received a message saying that hex was deprecated and needed to be run using --legacy hex; other dependencies needed to be installed for this"
   ]
  },
  {
   "cell_type": "code",
   "execution_count": null,
   "id": "f44c6427-bc4d-4040-bc59-e8eb2bf4d38c",
   "metadata": {},
   "outputs": [],
   "source": [
    "# examine QC reports\n",
    "cd /scratch/whitefly_ont_sequencing/qc/barcode41\n",
    "cat NanoStats.txt"
   ]
  },
  {
   "cell_type": "markdown",
   "id": "6a82af0c-ef02-421d-971e-bd83691ad7e7",
   "metadata": {},
   "source": [
    "# C. _de novo_ assembly using Flye"
   ]
  },
  {
   "cell_type": "markdown",
   "id": "12c845e0-2798-4de7-97ce-dd5aaf05abdb",
   "metadata": {},
   "source": [
    "## 1. Create working directory assembly"
   ]
  },
  {
   "cell_type": "code",
   "execution_count": null,
   "id": "d973a6c0-9c04-44be-a18e-bfa998543695",
   "metadata": {},
   "outputs": [],
   "source": [
    "# create assembly directory\n",
    "mkdir -p /scratch/whitefly_ont_sequencing/assembly\n",
    "cd /scratch/whitefly_ont_sequencing/assembly"
   ]
  },
  {
   "cell_type": "markdown",
   "id": "3f8ee9cc-9a6b-4b7a-af10-0d9403340cd0",
   "metadata": {},
   "source": [
    "## 2. Run Flye"
   ]
  },
  {
   "cell_type": "code",
   "execution_count": null,
   "id": "23b882b5-7b67-4c33-b7f6-9ddc99876076",
   "metadata": {},
   "outputs": [],
   "source": [
    "# load Flye\n",
    "module load flye/2.9.3\n",
    "module list"
   ]
  },
  {
   "cell_type": "code",
   "execution_count": null,
   "id": "1af19775-0fe3-4d87-8cd5-8a1290ae38ff",
   "metadata": {},
   "outputs": [],
   "source": [
    "# print Flye help menu\n",
    "flye --help"
   ]
  },
  {
   "cell_type": "code",
   "execution_count": null,
   "id": "e8e72d45-52c8-4a76-8a4c-53624165b799",
   "metadata": {},
   "outputs": [],
   "source": [
    "# run Flye\n",
    "time flye --threads 8 --resume --meta --nano-hq /scratch/whitefly_ont_sequencing/basecalling/xxxxxxxx.fastq -o flye_output"
   ]
  },
  {
   "cell_type": "code",
   "execution_count": null,
   "id": "e1128644-6a0c-4051-93fd-f600e567da98",
   "metadata": {},
   "outputs": [],
   "source": []
  },
  {
   "cell_type": "code",
   "execution_count": null,
   "id": "57a47c33-3a34-4ed8-8190-c45111a687d5",
   "metadata": {},
   "outputs": [],
   "source": []
  },
  {
   "cell_type": "markdown",
   "id": "de18e878-2090-4561-bb93-89be92eb200d",
   "metadata": {},
   "source": [
    "## 4. Polish assembly"
   ]
  },
  {
   "cell_type": "code",
   "execution_count": null,
   "id": "a70db3da-efe1-46a6-a18d-93d4f71f5c37",
   "metadata": {},
   "outputs": [],
   "source": []
  },
  {
   "cell_type": "code",
   "execution_count": null,
   "id": "8621ae38-d43b-4ea7-9525-c708b26fa4b4",
   "metadata": {},
   "outputs": [],
   "source": []
  },
  {
   "cell_type": "code",
   "execution_count": null,
   "id": "cfe74a5f-a0f3-4a46-8e63-5a5b6001e017",
   "metadata": {},
   "outputs": [],
   "source": []
  },
  {
   "cell_type": "markdown",
   "id": "666dd915-dc8d-4642-97b3-76b749892a29",
   "metadata": {},
   "source": [
    "# D. Taxonomic assignation"
   ]
  },
  {
   "cell_type": "markdown",
   "id": "e8a44c48-25f6-48b6-9bf5-1f3b4429f6ea",
   "metadata": {},
   "source": [
    "## 1. Download relevant databases"
   ]
  },
  {
   "cell_type": "code",
   "execution_count": null,
   "id": "2e198741-54d0-4f0f-8588-c362c1b35fb6",
   "metadata": {},
   "outputs": [],
   "source": [
    "# it can take several hours to download some of the large databases (e.g. bacteria)"
   ]
  },
  {
   "cell_type": "code",
   "execution_count": null,
   "id": "417d43cd-d3ec-424c-a8af-8316b7ef5fd7",
   "metadata": {},
   "outputs": [],
   "source": [
    "# download eukaryot database\n",
    "ftp//:ftp.ncbi.nlm.nih.gov/genomes/refseq/invertebrate/Bemisia_tabaci/\n",
    "wget -r --no-parent -A GCF_*_genomic.fna.gz ftp.ncbi.nlm.nih.gov/genomes/refseq/invertebrate/Bemisia_tabaci/all_assembly_versions/GCF_001854935.1_ASM185493v1/"
   ]
  },
  {
   "cell_type": "code",
   "execution_count": null,
   "id": "fada1ba8-3d23-4f62-b4c7-b7f4a055bfa0",
   "metadata": {},
   "outputs": [],
   "source": [
    "# download bacteria database\n",
    "wget -r --no-parent -A bacteria.*.genomic.fna.gz ftp://ftp.ncbi.nlm.nih.gov/refseq/release/bacteria/"
   ]
  },
  {
   "cell_type": "code",
   "execution_count": null,
   "id": "94c23f76-d0fa-439c-8e5d-a5e55b81f495",
   "metadata": {},
   "outputs": [],
   "source": [
    "# download fungi database\n",
    "wget -r --no-parent -A fungi.*.genomic.fna.gz ftp://ftp.ncbi.nlm.nih.gov/refseq/release/fungi/"
   ]
  },
  {
   "cell_type": "code",
   "execution_count": null,
   "id": "578e5864-69f0-4521-9c45-7d277dec3c32",
   "metadata": {},
   "outputs": [],
   "source": [
    "# download virus database \n",
    "wget -r --no-parent -A viral.*.genomic.fna.gz ftp://ftp.ncbi.nlm.nih.gov/refseq/release/viral/"
   ]
  },
  {
   "cell_type": "markdown",
   "id": "8683e0a2-d466-41a8-9e1b-5c6382d3ce14",
   "metadata": {},
   "source": []
  }
 ],
 "metadata": {
  "kernelspec": {
   "display_name": "Bash",
   "language": "bash",
   "name": "bash"
  },
  "language_info": {
   "codemirror_mode": "shell",
   "file_extension": ".sh",
   "mimetype": "text/x-sh",
   "name": "bash"
  }
 },
 "nbformat": 4,
 "nbformat_minor": 5
}
