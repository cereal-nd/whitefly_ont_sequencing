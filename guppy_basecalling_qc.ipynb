{
 "cells": [
  {
   "cell_type": "markdown",
   "id": "280c4391-8056-47c6-a2eb-5f8738c185ca",
   "metadata": {},
   "source": [
    "This notebook describes the steps in the bioinformatics pipeline used for the analysis of whitefly (_Bemisia tabaci_) Oxford Nanopore reads"
   ]
  },
  {
   "cell_type": "markdown",
   "id": "4deabadc-1994-43a8-8137-c00046ec94fd",
   "metadata": {},
   "source": [
    "# A. Basecalling ONT reads with Guppy"
   ]
  },
  {
   "cell_type": "markdown",
   "id": "b95d13ac-1ca2-4c38-9b96-a38328b11815",
   "metadata": {},
   "source": [
    "## 1. Create working directories and import raw data files"
   ]
  },
  {
   "cell_type": "code",
   "execution_count": null,
   "id": "21ef7c69-4bd6-4539-9d41-8c71bdf0439d",
   "metadata": {},
   "outputs": [],
   "source": [
    "# connect to distant server\n",
    "ssh cndougonna@102.216.123.67"
   ]
  },
  {
   "cell_type": "code",
   "execution_count": null,
   "id": "0553ca30-952b-4f0e-9801-e294b2eb8a8a",
   "metadata": {},
   "outputs": [],
   "source": [
    "# reserve a node and create personal folder in /tmp\n",
    "scontrol show partitions\n",
    "srun -p main --pty bash\n",
    "mkdir -p /tmp/whitefly_ont_sequencing"
   ]
  },
  {
   "cell_type": "code",
   "execution_count": null,
   "id": "e790b3d7-a016-4cdc-8d08-ae41faaf463c",
   "metadata": {},
   "outputs": [],
   "source": [
    "# create data and basecalling directories\n",
    "mkdir -p /tmp/whitefly_ont_sequencing/raw_data\n",
    "mkdir -p /tmp/whitefly_ont_sequencing/basecalling"
   ]
  },
  {
   "cell_type": "code",
   "execution_count": null,
   "id": "8b306b27-f595-4b8f-b90a-0a19ed1b3110",
   "metadata": {},
   "outputs": [],
   "source": [
    "# copy raw data from source folder on distant server to personal folder\n",
    "cd /tmp/whitefly_ont_sequencing\n",
    "scp -r path_to_source_folder/raw_data.fast5 /tmp/whitefly_ont_sequencing/raw_data\n",
    "ls\n",
    "head -20 whitefly_data.fast5"
   ]
  },
  {
   "cell_type": "markdown",
   "id": "7d23028d-8661-4fe3-adfe-77d28674b197",
   "metadata": {},
   "source": [
    "## 2. Basecalling"
   ]
  },
  {
   "cell_type": "code",
   "execution_count": null,
   "id": "1d5f9f97-7901-4668-90a2-9f7fea6bb7c5",
   "metadata": {},
   "outputs": [],
   "source": [
    "# print Guppy options\n",
    "guppy_basecaller --help"
   ]
  },
  {
   "cell_type": "code",
   "execution_count": null,
   "id": "f461fa3b-2435-4e64-a67b-3d9db80206ca",
   "metadata": {},
   "outputs": [],
   "source": [
    "# list existing configuration files; select high-accuracy (hac) or super-accuracy model (sup)\n",
    "guppy_basecaller --print_workflows | grep xxx_ont_kit_used_xxx"
   ]
  },
  {
   "cell_type": "code",
   "execution_count": null,
   "id": "bab4822c-ab1d-4128-b62e-42cfeb729d50",
   "metadata": {},
   "outputs": [],
   "source": [
    "# run Guppy with options to trim adapters and barcodes and remove reads with qscore below 7\n",
    "cd /tmp/whitefly_ont_sequencing/basecalling\n",
    "guppy_basecaller -c xxxxxxxxxxxxx.cfg -i /tmp/whitefly_ont_sequencing/raw_data/whitefly.fast5 \\\n",
    "                    -t 12 -s /tmp/whitefly_ont_sequencing/basecalling \\\n",
    "                    --detect_adapter --trim_adapters --detect_barcodes --enable_trim_barcodes --min_qscore 7"
   ]
  },
  {
   "cell_type": "markdown",
   "id": "6a524b18-a871-4063-8bca-80a11daf0482",
   "metadata": {},
   "source": [
    "# B. Quality control with NanoPlot"
   ]
  },
  {
   "cell_type": "markdown",
   "id": "e9be0944-5441-4c81-9ba7-324de4245083",
   "metadata": {},
   "source": [
    "## 1. Create working directory qc"
   ]
  },
  {
   "cell_type": "code",
   "execution_count": null,
   "id": "c281be26-eb85-461a-a064-d43ad9360808",
   "metadata": {},
   "outputs": [],
   "source": [
    "# create qc directory\n",
    "mkdir -p /tmp/whitefly_ont_sequencing/qc"
   ]
  },
  {
   "cell_type": "markdown",
   "id": "c7750abe-a5d7-4574-b020-fc7289385714",
   "metadata": {},
   "source": [
    "## 2. Run NanoPlot"
   ]
  },
  {
   "cell_type": "code",
   "execution_count": null,
   "id": "e1206e6c-1153-4452-80fb-6e5df3b4600c",
   "metadata": {},
   "outputs": [],
   "source": [
    "# print NanoPlot help menu\n",
    "NanoPlot --help"
   ]
  },
  {
   "cell_type": "code",
   "execution_count": null,
   "id": "1f725d3d-0aa5-4ee0-906c-41817eaff905",
   "metadata": {},
   "outputs": [],
   "source": [
    "#run NanoPlot\n",
    "NanoPlot -t 2 -o /Users/cyrielle_ndougonna/Desktop/WAVE/lab_management/training/minION/ont_workshop_2024_09/personal_project/qc \\\n",
    "            --fastq /Users/cyrielle_ndougonna/Desktop/WAVE/lab_management/training/minION/ont_workshop_2024_09/personal_project/basecalling/whitefly_basecalled.fastq\n"
   ]
  },
  {
   "cell_type": "code",
   "execution_count": null,
   "id": "f44c6427-bc4d-4040-bc59-e8eb2bf4d38c",
   "metadata": {},
   "outputs": [],
   "source": []
  },
  {
   "cell_type": "code",
   "execution_count": null,
   "id": "c5ed9f17-0b8e-4297-bf15-1c5c3361ac7a",
   "metadata": {},
   "outputs": [],
   "source": []
  }
 ],
 "metadata": {
  "kernelspec": {
   "display_name": "Bash",
   "language": "bash",
   "name": "bash"
  },
  "language_info": {
   "codemirror_mode": "shell",
   "file_extension": ".sh",
   "mimetype": "text/x-sh",
   "name": "bash"
  }
 },
 "nbformat": 4,
 "nbformat_minor": 5
}
