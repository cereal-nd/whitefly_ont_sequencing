{
 "cells": [
  {
   "cell_type": "markdown",
   "id": "280c4391-8056-47c6-a2eb-5f8738c185ca",
   "metadata": {},
   "source": [
    "# Metafly: a whitefly metagenomics project\n",
    "By Cyrielle Ndougonna \\\n",
    "Supervision: Ezéchiel B. Tibiri & Fidèle Tiendrébéogo\n",
    "\n",
    "project aims: \\\n",
    "O1: characterise whitefly (_Bemisia tabaci_) genotypes circulating in the two study areas (Bonoua and N'Djem) \\\n",
    "O2: establish the diversity of viruses associated with whiteflies originating from Bonoua and N'Djem \\\n",
    "O3: catalogue the endosymbiotic bacteria associated with whiteflies originating from Bonoua and N'Djem\n",
    "\n",
    "This notebook describes the steps in the bioinformatics pipeline used for the analysis of whitefly Oxford Nanopore reads\n",
    "The analysis was executed on the UJKZ HPC.\n",
    "\n",
    "conventions: \\\n",
    "directory names in all caps \\\n",
    "file names with underscore and no caps"
   ]
  },
  {
   "cell_type": "markdown",
   "id": "4deabadc-1994-43a8-8137-c00046ec94fd",
   "metadata": {},
   "source": [
    "# A. Basecalling ONT reads with Guppy"
   ]
  },
  {
   "cell_type": "markdown",
   "id": "b95d13ac-1ca2-4c38-9b96-a38328b11815",
   "metadata": {},
   "source": [
    "## 1. Create working directories and import raw data files"
   ]
  },
  {
   "cell_type": "code",
   "execution_count": null,
   "id": "21ef7c69-4bd6-4539-9d41-8c71bdf0439d",
   "metadata": {},
   "outputs": [],
   "source": [
    "# connect to distant server\n",
    "ssh cndougonna@102.216.123.67\n",
    "scontrol show partitions"
   ]
  },
  {
   "cell_type": "code",
   "execution_count": null,
   "id": "c67a24be-6d3e-4472-bb64-c2569b30fc47",
   "metadata": {},
   "outputs": [],
   "source": [
    "# reserve a node and create personal folder in /scratch\n",
    "srun --ntasks=1 --cpus-per-task=8 --mem=32G --time=03:00:00 --pty bash -i\n",
    "mkdir -p /tmp/whitefly_ont_sequencing"
   ]
  },
  {
   "cell_type": "code",
   "execution_count": null,
   "id": "e790b3d7-a016-4cdc-8d08-ae41faaf463c",
   "metadata": {},
   "outputs": [],
   "source": [
    "# create data and basecalling directories\n",
    "mkdir -p /tmp/whitefly_ont_sequencing/raw_data\n",
    "mkdir -p /tmp/whitefly_ont_sequencing/basecalling"
   ]
  },
  {
   "cell_type": "code",
   "execution_count": null,
   "id": "8b306b27-f595-4b8f-b90a-0a19ed1b3110",
   "metadata": {},
   "outputs": [],
   "source": [
    "# copy raw data from source folder on remote server to working directory\n",
    "cd /tmp/whitefly_ont_sequencing/raw_data\n",
    "scp -r /home/cndougonna/whitefly/*.fast5 .\n",
    "ls\n",
    "head -20 whitefly_data.fast5"
   ]
  },
  {
   "cell_type": "markdown",
   "id": "7d23028d-8661-4fe3-adfe-77d28674b197",
   "metadata": {},
   "source": [
    "## 2. Basecalling"
   ]
  },
  {
   "cell_type": "code",
   "execution_count": null,
   "id": "1d5f9f97-7901-4668-90a2-9f7fea6bb7c5",
   "metadata": {},
   "outputs": [],
   "source": [
    "# print Guppy options\n",
    "guppy_basecaller --help"
   ]
  },
  {
   "cell_type": "code",
   "execution_count": null,
   "id": "f461fa3b-2435-4e64-a67b-3d9db80206ca",
   "metadata": {},
   "outputs": [],
   "source": [
    "# list existing configuration files; select high-accuracy (hac) or super-accuracy model (sup)\n",
    "guppy_basecaller --print_workflows | grep xxx_ont_kit_used_xxx"
   ]
  },
  {
   "cell_type": "code",
   "execution_count": null,
   "id": "bab4822c-ab1d-4128-b62e-42cfeb729d50",
   "metadata": {},
   "outputs": [],
   "source": [
    "# run Guppy with options to trim adapters and barcodes and remove reads with qscore below 7\n",
    "cd /tmp/whitefly_ont_sequencing/basecalling\n",
    "guppy_basecaller -c xxxxxxxxxxxxx.cfg -i /tmp/whitefly_ont_sequencing/raw_data/whitefly.fast5 \\\n",
    "                    -t 12 -s /tmp/whitefly_ont_sequencing/basecalling \\\n",
    "                    --detect_adapter --trim_adapters --detect_barcodes --enable_trim_barcodes --min_qscore 7"
   ]
  },
  {
   "cell_type": "markdown",
   "id": "6a524b18-a871-4063-8bca-80a11daf0482",
   "metadata": {},
   "source": [
    "# B. Quality control with NanoPlot"
   ]
  },
  {
   "cell_type": "markdown",
   "id": "e9be0944-5441-4c81-9ba7-324de4245083",
   "metadata": {},
   "source": [
    "## 1. Create working directory qc"
   ]
  },
  {
   "cell_type": "code",
   "execution_count": null,
   "id": "c281be26-eb85-461a-a064-d43ad9360808",
   "metadata": {},
   "outputs": [],
   "source": [
    "# create qc directory\n",
    "mkdir -p /tmp/whitefly_ont_sequencing/qc"
   ]
  },
  {
   "cell_type": "markdown",
   "id": "c7750abe-a5d7-4574-b020-fc7289385714",
   "metadata": {},
   "source": [
    "## 2. Run NanoPlot"
   ]
  },
  {
   "cell_type": "code",
   "execution_count": null,
   "id": "e1206e6c-1153-4452-80fb-6e5df3b4600c",
   "metadata": {},
   "outputs": [],
   "source": [
    "# print NanoPlot help menu\n",
    "NanoPlot --help"
   ]
  },
  {
   "cell_type": "code",
   "execution_count": null,
   "id": "1f725d3d-0aa5-4ee0-906c-41817eaff905",
   "metadata": {},
   "outputs": [],
   "source": [
    "#run NanoPlot\n",
    "NanoPlot -t 2 -o /tmp/whitefly_ont_sequencing/qc \\\n",
    "            --fastq /tmp/whitefly_ont_sequencing/basecalling/whitefly_basecalled.fastq\n"
   ]
  },
  {
   "cell_type": "code",
   "execution_count": null,
   "id": "f44c6427-bc4d-4040-bc59-e8eb2bf4d38c",
   "metadata": {},
   "outputs": [],
   "source": [
    "# examine QC reports"
   ]
  },
  {
   "cell_type": "markdown",
   "id": "6a82af0c-ef02-421d-971e-bd83691ad7e7",
   "metadata": {},
   "source": [
    "# C. _de novo_ assembly using Flye"
   ]
  },
  {
   "cell_type": "code",
   "execution_count": null,
   "id": "d973a6c0-9c04-44be-a18e-bfa998543695",
   "metadata": {},
   "outputs": [],
   "source": [
    "# create assembly directory\n",
    "mkdir -p /tmp/whitefly_ont_sequencing/assembly"
   ]
  },
  {
   "cell_type": "code",
   "execution_count": null,
   "id": "0cd9ab22-79f6-47d2-8e29-e2a068dd499f",
   "metadata": {},
   "outputs": [],
   "source": []
  },
  {
   "cell_type": "code",
   "execution_count": null,
   "id": "417d43cd-d3ec-424c-a8af-8316b7ef5fd7",
   "metadata": {},
   "outputs": [],
   "source": []
  },
  {
   "cell_type": "code",
   "execution_count": null,
   "id": "94c23f76-d0fa-439c-8e5d-a5e55b81f495",
   "metadata": {},
   "outputs": [],
   "source": []
  }
 ],
 "metadata": {
  "kernelspec": {
   "display_name": "Bash",
   "language": "bash",
   "name": "bash"
  },
  "language_info": {
   "codemirror_mode": "shell",
   "file_extension": ".sh",
   "mimetype": "text/x-sh",
   "name": "bash"
  }
 },
 "nbformat": 4,
 "nbformat_minor": 5
}
