{
 "cells": [
  {
   "cell_type": "markdown",
   "id": "280c4391-8056-47c6-a2eb-5f8738c185ca",
   "metadata": {},
   "source": [
    "# Metafly: a whitefly metagenomics project\n",
    "By Cyrielle Ndougonna \\\n",
    "Supervision: Ezechiel B. Tibiri, Romaric Nanema & Fidèle Tiendrébéogo\n",
    "\n",
    "Project aims: \\\n",
    "O1: establish the diversity of viruses associated with whiteflies originating from two locations in Côte d'Ivoire (Bonoua and N'Djem) \\\n",
    "O2: catalogue the endosymbiotic bacteria associated with whiteflies originating from the two sites \\\n",
    "O3: characterise whitefly (_Bemisia tabaci_) genotypes circulating in the two areas\n",
    "\n",
    "This notebook describes the steps in the bioinformatics pipeline used for the analysis of Oxford Nanopore reads generated from whitefly samples collected in Bonoua and N'Djem.\n",
    "The analysis was executed on the iTrop HPC."
   ]
  },
  {
   "cell_type": "markdown",
   "id": "2c8a9bb4-2215-496d-abdb-c667ae44b0f0",
   "metadata": {},
   "source": [
    "# Getting started"
   ]
  },
  {
   "cell_type": "code",
   "execution_count": null,
   "id": "21ef7c69-4bd6-4539-9d41-8c71bdf0439d",
   "metadata": {},
   "outputs": [],
   "source": [
    "# connect to distant server\n",
    "ssh bioinfo-master1.ird.fr -l ndougonna\n",
    "\n",
    "# check available partitions\n",
    "sinfo\n",
    "\n",
    "# launch an interactive session\n",
    "srun -c12 --pty bash -i"
   ]
  },
  {
   "cell_type": "code",
   "execution_count": null,
   "id": "267b1010-16dd-4e73-99d2-6483d58ef344",
   "metadata": {},
   "outputs": [],
   "source": [
    "# create project directory in /scratch\n",
    "mkdir -p /scratch/whitefly_ont_sequencing/from_pod5"
   ]
  },
  {
   "cell_type": "markdown",
   "id": "4deabadc-1994-43a8-8137-c00046ec94fd",
   "metadata": {},
   "source": [
    "# A. Basecalling ONT reads with Dorado"
   ]
  },
  {
   "cell_type": "markdown",
   "id": "b95d13ac-1ca2-4c38-9b96-a38328b11815",
   "metadata": {},
   "source": [
    "## 1. Locate raw data and create working directory basecalling"
   ]
  },
  {
   "cell_type": "code",
   "execution_count": null,
   "id": "96652544-00a1-4393-b535-693c4db12980",
   "metadata": {},
   "outputs": [],
   "source": [
    "# raw data is located in the following directory\n",
    "/home/cndougonna/whitefly/FAV02519/pod5/"
   ]
  },
  {
   "cell_type": "code",
   "execution_count": null,
   "id": "e790b3d7-a016-4cdc-8d08-ae41faaf463c",
   "metadata": {},
   "outputs": [],
   "source": [
    "# create basecalling directories in /scratch\n",
    "mkdir -p /scratch/whitefly_ont_sequencing/from_pod5/basecalling"
   ]
  },
  {
   "cell_type": "markdown",
   "id": "7d23028d-8661-4fe3-adfe-77d28674b197",
   "metadata": {},
   "source": [
    "## 2. Basecalling"
   ]
  },
  {
   "cell_type": "code",
   "execution_count": null,
   "id": "2cb3441b-dd9a-49b5-aa54-21d521f168c4",
   "metadata": {},
   "outputs": [],
   "source": [
    "cd /scratch/whitefly_ont_sequencing/from_pod5/basecalling\n",
    "pwd"
   ]
  },
  {
   "cell_type": "code",
   "execution_count": null,
   "id": "a040550d-7ee4-4d3e-b548-21f8d2b6ff59",
   "metadata": {},
   "outputs": [],
   "source": [
    "# load Dorado\n",
    "module load dorado/0.8.3\n",
    "module list"
   ]
  },
  {
   "cell_type": "code",
   "execution_count": null,
   "id": "1d5f9f97-7901-4668-90a2-9f7fea6bb7c5",
   "metadata": {},
   "outputs": [],
   "source": [
    "# print Dorado options\n",
    "dorado basecaller --help"
   ]
  },
  {
   "cell_type": "code",
   "execution_count": null,
   "id": "f461fa3b-2435-4e64-a67b-3d9db80206ca",
   "metadata": {},
   "outputs": [],
   "source": [
    "# DO NOT RUN THIS CODE\n",
    "# list models available for download\n",
    "dorado download --list\n",
    "# download appropriate model\n",
    "dorado download --model dna_r10.4.1_e8.2_400bps_sup@v5.0.0\n",
    "# run Dorado on input directory\n",
    "for FILE in /home/cndougonna/whitefly/FAV02519/pod5/; do FILENAME=$(FAV02519_6c0a1734_fba2136f_ \"$FILE\" .pod5); dorado basecaller sup --emit-fastq \"$FILE\" > ./fastq/${FILENAME}.fastq; done"
   ]
  },
  {
   "cell_type": "code",
   "execution_count": null,
   "id": "4ccbc280-3490-4554-91db-5fb5b760396e",
   "metadata": {},
   "outputs": [],
   "source": [
    "# there are 42 .pod5 files in total; dorado automatically detects all .pod5 in input directory with the --recursive flag\n",
    "## do not use --emit-fastq flag as we want the output in .bam\n",
    "dorado basecaller --recursive sup --no-trim --min-qscore 10 /home/cndougonna/whitefly/FAV02519/pod5/ > calls.bam"
   ]
  },
  {
   "cell_type": "code",
   "execution_count": null,
   "id": "c3e90a51-379c-4bcf-878d-222a6fb6a0c7",
   "metadata": {},
   "outputs": [],
   "source": [
    "# generate summary\n",
    "## this command is only compatible with reads basecalled from .pod5\n",
    "dorado summary /scratch/whitefly_ont_sequencing/basecalling/calls.bam > summary.tsv"
   ]
  },
  {
   "cell_type": "code",
   "execution_count": null,
   "id": "f3467a1c-137a-4e63-8bb0-fd61e9d47e30",
   "metadata": {},
   "outputs": [],
   "source": [
    "# demultiplex reads; specify .fastq as output\n",
    "## we obtain one .fastq per barcode\n",
    "mkdir -p /scratch/whitefly_ont_sequencing/basecalling/demultiplexing\n",
    "dorado demux --threads 8 --emit-fastq --emit-summary --kit-name SQK-NBD114-96 --output-dir /scratch/whitefly_ont_sequencing/basecalling/demultiplexing /scratch/whitefly_ont_sequencing/basecalling/calls.bam"
   ]
  },
  {
   "cell_type": "markdown",
   "id": "7c14b5f8-2e55-4383-b3ec-a4869b159fc4",
   "metadata": {},
   "source": [
    "# B. Quality control with NanoPlot"
   ]
  },
  {
   "cell_type": "markdown",
   "id": "277edc7d-cea3-404b-a103-9ad60d9dde41",
   "metadata": {},
   "source": [
    "From here on, the code that needs to be run is found in pipeline_from_fastq.ipynb, starting with quality control with NanoPlot."
   ]
  }
 ],
 "metadata": {
  "kernelspec": {
   "display_name": "Bash",
   "language": "bash",
   "name": "bash"
  },
  "language_info": {
   "codemirror_mode": "shell",
   "file_extension": ".sh",
   "mimetype": "text/x-sh",
   "name": "bash"
  }
 },
 "nbformat": 4,
 "nbformat_minor": 5
}
