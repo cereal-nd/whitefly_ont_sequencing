{
 "cells": [
  {
   "cell_type": "markdown",
   "id": "280c4391-8056-47c6-a2eb-5f8738c185ca",
   "metadata": {},
   "source": [
    "# Metafly: a whitefly metagenomics project\n",
    "By Cyrielle Ndougonna \\\n",
    "Supervision: Ezechiel B. Tibiri, Romaric Nanema & Fidèle Tiendrébéogo\n",
    "\n",
    "Project aims: \\\n",
    "O1: establish the diversity of viruses associated with whiteflies originating from two locations in Côte d'Ivoire (Bonoua and N'Djem) \\\n",
    "O2: catalogue the endosymbiotic bacteria associated with whiteflies originating from the two sites \\\n",
    "O3: characterise whitefly (_Bemisia tabaci_) genotypes circulating in the two areas\n",
    "\n",
    "This notebook describes the steps in the bioinformatics pipeline used for the analysis of Oxford Nanopore reads generated from whitefly samples collected in Bonoua and N'Djem.\n",
    "The analysis was executed on the iTrop HPC."
   ]
  },
  {
   "cell_type": "markdown",
   "id": "2c8a9bb4-2215-496d-abdb-c667ae44b0f0",
   "metadata": {},
   "source": [
    "# A. Getting started"
   ]
  },
  {
   "cell_type": "code",
   "execution_count": null,
   "id": "21ef7c69-4bd6-4539-9d41-8c71bdf0439d",
   "metadata": {},
   "outputs": [],
   "source": [
    "# connect to distant server\n",
    "ssh bioinfo-master1.ird.fr -l ndougonna\n",
    "\n",
    "# check available partitions\n",
    "sinfo\n",
    "\n",
    "# launch an interactive session\n",
    "srun -c12 --pty bash -i\n",
    "\n",
    "# connect to node 23\n",
    "srun -N 23 -c12 --pty bash -i"
   ]
  },
  {
   "cell_type": "code",
   "execution_count": null,
   "id": "8e76c355-0320-4b5f-8300-70886738f0f6",
   "metadata": {},
   "outputs": [],
   "source": [
    "# create project directory in /scratch\n",
    "mkdir -p /scratch/whitefly_ont_sequencing/from_fastq"
   ]
  },
  {
   "cell_type": "code",
   "execution_count": null,
   "id": "b0bd05e8-7782-4baf-adaa-4c1f24541ed2",
   "metadata": {},
   "outputs": [],
   "source": [
    "# raw data is located in the following directory\n",
    "/projects/medium/whitefly_ont/FASTQ"
   ]
  },
  {
   "cell_type": "markdown",
   "id": "79a45ded-d7f3-48fd-9e5e-52428b8bc934",
   "metadata": {},
   "source": [
    "Barcodes of interest are BC92, BC93, BC94, BC95, BC96 (Bonoua) and BC41, BC42, BC43, BC44, BC45, BC46, BC47 (N'Djem)."
   ]
  },
  {
   "cell_type": "markdown",
   "id": "6a524b18-a871-4063-8bca-80a11daf0482",
   "metadata": {},
   "source": [
    "# B. Quality control with NanoPlot"
   ]
  },
  {
   "cell_type": "markdown",
   "id": "e9be0944-5441-4c81-9ba7-324de4245083",
   "metadata": {},
   "source": [
    "## 1. Create working directory qc"
   ]
  },
  {
   "cell_type": "code",
   "execution_count": null,
   "id": "c281be26-eb85-461a-a064-d43ad9360808",
   "metadata": {},
   "outputs": [],
   "source": [
    "# create qc directory\n",
    "mkdir -p /scratch/whitefly_ont_sequencing/from_fastq/qc\n",
    "cd /scratch/whitefly_ont_sequencing/from_fastq/qc\n",
    "pwd"
   ]
  },
  {
   "cell_type": "code",
   "execution_count": null,
   "id": "ea713036-4658-4faf-bfaa-dc49d16e35c2",
   "metadata": {},
   "outputs": [],
   "source": [
    "# check how many reads were generated\n",
    "awk '{s++}END{print s/4}' /projects/medium/whitefly_ont/FASTQ/SQK-NBD114-96_barcode92.fastq"
   ]
  },
  {
   "cell_type": "code",
   "execution_count": null,
   "id": "14a386c5-4f4b-4a21-8c26-15774b0ce4c9",
   "metadata": {},
   "outputs": [],
   "source": [
    "# check how many bases were sequenced\n",
    "seqtk seq -A /projects/medium/whitefly_ont/FASTQ/SQK-NBD114-96_barcode92.fastq | grep -v \">\" | wc -m"
   ]
  },
  {
   "cell_type": "markdown",
   "id": "c7750abe-a5d7-4574-b020-fc7289385714",
   "metadata": {},
   "source": [
    "## 2. Run NanoPlot"
   ]
  },
  {
   "cell_type": "code",
   "execution_count": null,
   "id": "39ba9526-4e03-4402-9c1b-6228460c4b0d",
   "metadata": {},
   "outputs": [],
   "source": [
    "# load NanoPlot\n",
    "module load nanoplot/1.43.0\n",
    "module list"
   ]
  },
  {
   "cell_type": "code",
   "execution_count": null,
   "id": "e1206e6c-1153-4452-80fb-6e5df3b4600c",
   "metadata": {},
   "outputs": [],
   "source": [
    "# print NanoPlot help menu\n",
    "NanoPlot --help"
   ]
  },
  {
   "cell_type": "code",
   "execution_count": null,
   "id": "1f725d3d-0aa5-4ee0-906c-41817eaff905",
   "metadata": {},
   "outputs": [],
   "source": [
    "#run NanoPlot\n",
    "NanoPlot -t 8 -o /scratch/whitefly_ont_sequencing/from_fastq/qc \\\n",
    "            --fastq /projects/medium/whitefly_ont/FASTQ/*.fastq \\\n",
    "            --plots kde hex dot\n",
    "### I received a message saying that hex was deprecated and needed to be run using --legacy hex; other dependencies needed to be installed for this"
   ]
  },
  {
   "cell_type": "code",
   "execution_count": null,
   "id": "f44c6427-bc4d-4040-bc59-e8eb2bf4d38c",
   "metadata": {},
   "outputs": [],
   "source": [
    "# examine QC reports\n",
    "cd /scratch/whitefly_ont_sequencing/from_fastq/qc/barcode92\n",
    "cat NanoStats.txt"
   ]
  },
  {
   "cell_type": "code",
   "execution_count": null,
   "id": "9740bde3-76b5-4d64-9a4c-928ba2f84b06",
   "metadata": {},
   "outputs": [],
   "source": [
    "# copy qc reports from node to master\n",
    "cp /scratch/whitefly_ont_sequencing/from_fastq/qc/ /projects/medium/whitefly_ont\n",
    "\n",
    "# download qc reports on local disk\n",
    "scp -r ndougonna@bioinfo-san.ird.fr:/projects/medium/whitefly_ont/qc /Users/cyrielle_ndougonna/Desktop/WAVE/lab_management/training/minION/ont_workshop_2024_09/personal_project/results/from_fastq/"
   ]
  },
  {
   "cell_type": "markdown",
   "id": "e5636441-4b2b-4347-81f2-ac7119416a2d",
   "metadata": {},
   "source": [
    "# C. Mapping"
   ]
  },
  {
   "cell_type": "markdown",
   "id": "277edc7d-cea3-404b-a103-9ad60d9dde41",
   "metadata": {},
   "source": [
    "Here, .fastq are mapped against the reference _Bemisia tabaci_ genome. Mapped reads will be assembled separately from unmapped reads: \\\n",
    "for mapped: _de novo_ assembly and assignation using _Bemisia tabaci_ database \\\n",
    "for unmapped: _de novo_ assembly and assignation using viruses database; _de novo_ assembly and assignation using bacteria database; _de novo_ assembly and assignation using fungi database"
   ]
  },
  {
   "cell_type": "code",
   "execution_count": null,
   "id": "b84883a3-3827-47b5-99ed-89b74198f221",
   "metadata": {},
   "outputs": [],
   "source": [
    "# download Bemisia tabaci reference genome\n",
    "mkdir -p /scratch/whitefly_ont_sequencing/from_fastq/refseq\n",
    "cd /scratch/whitefly_ont_sequencing/from_fastq/refseq\n",
    "pwd\n",
    "\n",
    "wget -r --no-parent https://ftp.ncbi.nlm.nih.gov/genomes/refseq/invertebrate/Bemisia_tabaci/all_assembly_versions/GCF_001854935.1_ASM185493v1/GCF_001854935.1_ASM185493v1_genomic.fna.gz"
   ]
  },
  {
   "cell_type": "code",
   "execution_count": null,
   "id": "b3b39113-b930-4a5c-8934-fc436d00df45",
   "metadata": {},
   "outputs": [],
   "source": [
    "# unzip .fna.gz\n",
    "gunzip /scratch/whitefly_ont_sequencing/from_fastq/refseq/ftp.ncbi.nlm.nih.gov/genomes/refseq/invertebrate/Bemisia_tabaci/all_assembly_versions/GCF_001854935.1_ASM185493v1/GCF_001854935.1_ASM185493v1_genomic.fna.gz"
   ]
  },
  {
   "cell_type": "code",
   "execution_count": null,
   "id": "a43798ab-5399-464c-a218-30765533db87",
   "metadata": {},
   "outputs": [],
   "source": [
    "# move and rename reference genome to refseq directory\n",
    "mv /scratch/whitefly_ont_sequencing/from_fastq/refseq/ftp.ncbi.nlm.nih.gov/genomes/refseq/invertebrate/Bemisia_tabaci/all_assembly_versions/GCF_001854935.1_ASM185493v1/GCF_001854935.1_ASM185493v1_genomic.fna ./b_tabaci.genomic.fna\n",
    "\n",
    "# delete download directory\n",
    "rm -r /scratch/whitefly_ont_sequencing/from_fastq/refseq/ftp.ncbi.nlm.nih.gov/"
   ]
  },
  {
   "cell_type": "code",
   "execution_count": null,
   "id": "f83a4644-e382-4aaf-8d6b-3075adb9ea9f",
   "metadata": {},
   "outputs": [],
   "source": [
    "# load minimap2\n",
    "module load minimap2/2.24\n",
    "module list"
   ]
  },
  {
   "cell_type": "code",
   "execution_count": null,
   "id": "225ac162-30d9-4c6d-b444-de576c54d7b3",
   "metadata": {},
   "outputs": [],
   "source": [
    "# print minimap2 help menu\n",
    "minimap2 --help"
   ]
  },
  {
   "cell_type": "code",
   "execution_count": null,
   "id": "320033c9-5e30-4311-9980-d83836eb50ed",
   "metadata": {},
   "outputs": [],
   "source": [
    "# create mapping directory\n",
    "mkdir -p /scratch/whitefly_ont_sequencing/from_fastq/mapping\n",
    "cd /scratch/whitefly_ont_sequencing/from_fastq/mapping\n",
    "pwd\n",
    "\n",
    "# run minimap2\n",
    "minimap2 -t 8 -ax map-ont /projects/medium/whitefly_ont/refseq/b_tabaci.genomic.fna /projects/medium/whitefly_ont/FASTQ/SQK-NBD114-96_barcode92.fastq -o reads_vs_bemisia_bc92.sam"
   ]
  },
  {
   "cell_type": "code",
   "execution_count": null,
   "id": "b01cb241-49d2-4801-b5c0-fd3b4a859d47",
   "metadata": {},
   "outputs": [],
   "source": [
    "# print mapping statistics\n",
    "module load samtools/1.19.2\n",
    "module list\n",
    "\n",
    "samtools flagstats reads_vs_bemisia_bc92.sam"
   ]
  },
  {
   "cell_type": "code",
   "execution_count": null,
   "id": "75f7206d-2cac-4b94-8704-4791e36391f9",
   "metadata": {},
   "outputs": [],
   "source": [
    "# convert .sam to .bam\n",
    "samtools view -b -o reads_vs_bemisia_bc92.bam reads_vs_bemisia_bc92.sam"
   ]
  },
  {
   "cell_type": "code",
   "execution_count": null,
   "id": "b03b541f-699d-456b-8e41-68ab9b69e83f",
   "metadata": {},
   "outputs": [],
   "source": [
    "# check file size (check that .sam have been compressed)\n",
    "ls -alhrt reads_vs_bemisia_bc92.bam reads_vs_bemisia_bc92.sam"
   ]
  },
  {
   "cell_type": "code",
   "execution_count": null,
   "id": "002a63a6-0721-4f47-966b-c470e77681fa",
   "metadata": {},
   "outputs": [],
   "source": [
    "# extract mapped reads; these will be used for de novo assembly with B. tabaci database\n",
    "samtools view -@ 8 -bh -F 4 reads_vs_bemisia_bc92.sam > reads_vs_bemisia_bc92_mapped.bam"
   ]
  },
  {
   "cell_type": "code",
   "execution_count": null,
   "id": "aa05c165-92af-402c-a445-40fcac95b5bb",
   "metadata": {},
   "outputs": [],
   "source": [
    "# extract unmapped reads; these will be used for de novo assembly with viruses, fungi and bacteria databases\n",
    "samtools view -@ 8 -bh -f 4 reads_vs_bemisia_bc92.sam > reads_vs_bemisia_bc92_unmapped.bam"
   ]
  },
  {
   "cell_type": "code",
   "execution_count": null,
   "id": "a73959b7-cbaa-4a0b-ae56-f39e73b3a7d6",
   "metadata": {},
   "outputs": [],
   "source": [
    "# convert mapped.bam to .fastq  using `samtools fastq`\n",
    "samtools fastq reads_vs_bemisia_bc92_mapped.bam > reads_vs_bemisia_bc92_mapped.fastq\n",
    "\n",
    "# convert unmapped.bam to .fastq  using `samtools fastq`\n",
    "samtools fastq reads_vs_bemisia_bc92_unmapped.bam > reads_vs_bemisia_bc92_unmapped.fastq"
   ]
  },
  {
   "cell_type": "code",
   "execution_count": null,
   "id": "49ee9e7c-46ae-4b8b-b584-d89aec942480",
   "metadata": {},
   "outputs": [],
   "source": [
    "# copy .bam and .fastq from node to master\n",
    "cp /scratch/whitefly_ont_sequencing/from_fastq/mapping/ /projects/medium/whitefly_ont/mapping\n",
    "\n",
    "# download mapping files on local disk\n",
    "scp -r ndougonna@bioinfo-san.ird.fr:/projects/medium/whitefly_ont/mapping /Users/cyrielle_ndougonna/Desktop/WAVE/lab_management/training/minION/ont_workshop_2024_09/personal_project/results/from_fastq/"
   ]
  },
  {
   "cell_type": "markdown",
   "id": "6a82af0c-ef02-421d-971e-bd83691ad7e7",
   "metadata": {},
   "source": [
    "# D. _de novo_ assembly using Flye"
   ]
  },
  {
   "cell_type": "markdown",
   "id": "12c845e0-2798-4de7-97ce-dd5aaf05abdb",
   "metadata": {},
   "source": [
    "## 1. Create working directory assembly"
   ]
  },
  {
   "cell_type": "code",
   "execution_count": null,
   "id": "d973a6c0-9c04-44be-a18e-bfa998543695",
   "metadata": {},
   "outputs": [],
   "source": [
    "# create assembly directory\n",
    "mkdir -p /scratch/whitefly_ont_sequencing/from_fastq/assembly\n",
    "cd /scratch/whitefly_ont_sequencing/from_fastq/assembly\n",
    "pwd"
   ]
  },
  {
   "cell_type": "markdown",
   "id": "3f8ee9cc-9a6b-4b7a-af10-0d9403340cd0",
   "metadata": {},
   "source": [
    "## 2. Run Flye"
   ]
  },
  {
   "cell_type": "code",
   "execution_count": null,
   "id": "23b882b5-7b67-4c33-b7f6-9ddc99876076",
   "metadata": {},
   "outputs": [],
   "source": [
    "# load Flye\n",
    "module load flye/2.9.2\n",
    "module list"
   ]
  },
  {
   "cell_type": "code",
   "execution_count": null,
   "id": "1af19775-0fe3-4d87-8cd5-8a1290ae38ff",
   "metadata": {},
   "outputs": [],
   "source": [
    "# print Flye help menu\n",
    "flye --help"
   ]
  },
  {
   "cell_type": "code",
   "execution_count": null,
   "id": "e8e72d45-52c8-4a76-8a4c-53624165b799",
   "metadata": {},
   "outputs": [],
   "source": [
    "# run Flye on mapped reads\n",
    "flye --threads 8 --nano-hq /scratch/whitefly_ont_sequencing/from_fastq/mapping/reads_vs_bemisia_bc92_mapped.fastq -o ./flye_output_bc92"
   ]
  },
  {
   "cell_type": "code",
   "execution_count": null,
   "id": "c1dacf2f-3b31-47b6-9357-027ba5c3902c",
   "metadata": {},
   "outputs": [],
   "source": [
    "# run Flye on unmapped reads\n",
    "## add time flag to record running time\n",
    "flye --threads 8 --meta --nano-hq /scratch/whitefly_ont_sequencing/from_fastq/mapping/reads_vs_bemisia_bc92_unmapped.fastq -o flye_output_bc92_meta"
   ]
  },
  {
   "cell_type": "code",
   "execution_count": null,
   "id": "df28186a-1f99-42c4-aea6-c00011d7765d",
   "metadata": {},
   "outputs": [],
   "source": [
    "# run Flye on raw reads\n",
    "## add time flag to record running time\n",
    "flye --threads 8 --meta --nano-hq /projects/medium/whitefly_ont/FASTQ/SQK-NBD114-96_barcode92.fastq -o flye_output_bc92_raw"
   ]
  },
  {
   "cell_type": "markdown",
   "id": "02da8833-0839-4eae-b36b-e2862813b2c3",
   "metadata": {},
   "source": [
    "## 3. Estimate quality of raw assemblies (QUAST & MetaQUAST)"
   ]
  },
  {
   "cell_type": "code",
   "execution_count": null,
   "id": "cd048910-066e-46b2-86bb-289c8e16898d",
   "metadata": {},
   "outputs": [],
   "source": [
    "# create quast_raw directory\n",
    "mkdir -p /scratch/whitefly_ont_sequencing/from_fastq/quast/raw\n",
    "cd /scratch/whitefly_ont_sequencing/from_fastq/quast/raw\n",
    "pwd"
   ]
  },
  {
   "cell_type": "code",
   "execution_count": null,
   "id": "295e2526-2256-41d5-a263-96d79527530c",
   "metadata": {},
   "outputs": [],
   "source": [
    "# load QUAST\n",
    "module load quast/5.2.0\n",
    "module list"
   ]
  },
  {
   "cell_type": "code",
   "execution_count": null,
   "id": "57a47c33-3a34-4ed8-8190-c45111a687d5",
   "metadata": {},
   "outputs": [],
   "source": [
    "# print Metaquast help menu\n",
    "metaquast.py --help"
   ]
  },
  {
   "cell_type": "code",
   "execution_count": null,
   "id": "dd5e102c-5e0a-464f-9697-144cea163162",
   "metadata": {},
   "outputs": [],
   "source": [
    "###### help menu output\n",
    "###### Usage: python /usr/local/quast-5.2.0/metaquast.py [options] <files_with_contigs>"
   ]
  },
  {
   "cell_type": "code",
   "execution_count": null,
   "id": "0103cdcc-7599-49d5-9ecd-53e9f2b63167",
   "metadata": {},
   "outputs": [],
   "source": [
    "# run QUAST on raw assembly\n",
    "quast.py /projects/medium/whitefly_ont/assembly/flye_output_bc92/assembly.fasta -o quast_raw_bc92 --silent"
   ]
  },
  {
   "cell_type": "code",
   "execution_count": null,
   "id": "851fc20f-d22c-42c8-ad3b-d304a9ade4ef",
   "metadata": {},
   "outputs": [],
   "source": [
    "# run MetaQUAST on raw meta assembly\n",
    "metaquast.py /projects/medium/whitefly_ont/assembly/flye_output_bc92_meta/assembly.fasta -o quast_raw_bc92_meta --silent"
   ]
  },
  {
   "cell_type": "code",
   "execution_count": null,
   "id": "e2ba790c-a7f1-4856-9314-65e7c7e0d6e0",
   "metadata": {},
   "outputs": [],
   "source": [
    "# explore MetaQUAST outputs\n",
    "head -25 /scratch/whitefly_ont_sequencing/from_fastq/quast/raw/quast_bc92report.txt\n",
    "head -25 /scratch/whitefly_ont_sequencing/from_fastq/quast/raw/quast_meta_bc92s/report.txt"
   ]
  },
  {
   "cell_type": "markdown",
   "id": "4c5d08db-d93b-4a3c-9d13-d83d23cbe927",
   "metadata": {},
   "source": [
    "compare assemblies for all Bonoua samples \\\n",
    "compare assemblies for all N'Djem samples"
   ]
  },
  {
   "cell_type": "markdown",
   "id": "b795c20d-4a09-467d-88c9-3fad10f0fb29",
   "metadata": {},
   "source": [
    "## 4. Estimate quality of assembly with checkV (viral genomes only)"
   ]
  },
  {
   "cell_type": "code",
   "execution_count": null,
   "id": "39025de3-c2df-424c-bb55-4daca354b03c",
   "metadata": {},
   "outputs": [],
   "source": [
    "# create checkv directory\n",
    "mkdir -p /scratch/whitefly_ont_sequencing/from_fastq/checkv/unpolished\n",
    "cd /scratch/whitefly_ont_sequencing/from_fastq/checkv/unpolished\n",
    "pwd"
   ]
  },
  {
   "cell_type": "code",
   "execution_count": null,
   "id": "3dfdd59d-df56-49c5-9aa5-359df01b553b",
   "metadata": {},
   "outputs": [],
   "source": [
    "# load checkv\n",
    "## checkv not installed on the cluster\n",
    "module load checkv/xxxxxxxxxx\n",
    "module list"
   ]
  },
  {
   "cell_type": "code",
   "execution_count": null,
   "id": "fde1012c-8cea-49d7-9bd7-4f1ac5504e29",
   "metadata": {},
   "outputs": [],
   "source": [
    "# download checkV database\n",
    "checkv download_database /scratch/whitefly_ont_sequencing/from_fastq/checkv/"
   ]
  },
  {
   "cell_type": "code",
   "execution_count": null,
   "id": "e8c892a6-73fc-443d-b935-6306102eab43",
   "metadata": {},
   "outputs": [],
   "source": [
    "export CHECKVDB=/scratch/whitefly_ont_sequencing/from_fastq/checkv/checkv-db-xxxxxxxxxxxxxxxxx"
   ]
  },
  {
   "cell_type": "code",
   "execution_count": null,
   "id": "1dd36327-2118-48d0-bd8a-a50c21e0837c",
   "metadata": {},
   "outputs": [],
   "source": [
    "# run checkv on assemblies obtained from unmapped reads (_meta)\n",
    "checkv end_to_end /scratch/whitefly_ont_sequencing/from_fastq/assembly/flye_ouput_bc92_meta/assembly.fasta output_checkv_unpolished_bc92_meta"
   ]
  },
  {
   "cell_type": "markdown",
   "id": "04db4afd-ba55-4f3d-9123-0bcd018cd359",
   "metadata": {},
   "source": [
    "## 5. Perform preliminary taxonomic assignment\n",
    "This first assignation will serve to sort/discard samples for which assembly yielded chimers.\n",
    "I will use the viral database for this test, as it is the smallest one."
   ]
  },
  {
   "cell_type": "code",
   "execution_count": null,
   "id": "24166154-c3e3-479e-aba0-ba79262e8919",
   "metadata": {},
   "outputs": [],
   "source": [
    "# load Diamond\n",
    "module load diamond/2.0.11\n",
    "module list"
   ]
  },
  {
   "cell_type": "code",
   "execution_count": null,
   "id": "63b08408-da4e-4120-abd5-cf48c5cb7415",
   "metadata": {},
   "outputs": [],
   "source": [
    "# create diamond directory\n",
    "mkdir -p /scratch/whitefly_ont_sequencing/from_fastq/diamond_test\n",
    "cd /scratch/whitefly_ont_sequencing/from_fastq/diamond_test\n",
    "pwd"
   ]
  },
  {
   "cell_type": "code",
   "execution_count": null,
   "id": "e59dd6da-65e8-41b2-998d-874f32c3a48f",
   "metadata": {},
   "outputs": [],
   "source": [
    "# create reference database for viruses\n",
    "diamond makedb --in /scratch/whitefly_ont_sequencing/from_fastq/refseq/virus.protein.faa -d virusdb"
   ]
  },
  {
   "cell_type": "code",
   "execution_count": null,
   "id": "6db543e1-dd8e-4043-acba-12ba9e323dc2",
   "metadata": {},
   "outputs": [],
   "source": [
    "#print Diamond help menu\n",
    "diamond --help"
   ]
  },
  {
   "cell_type": "code",
   "execution_count": null,
   "id": "536f01c4-5cb9-45c1-8e23-126579f21f99",
   "metadata": {},
   "outputs": [],
   "source": [
    "#launch Diamond\n",
    "diamond blastx --very-sensitive --threads 8 --db virusdb.dmnd --query /projects/medium/whitefly_ont/assembly/flye_output_bc41_meta/assembly.fasta --outfmt 6 evalue score length pident mismatch gapopen stitle qtitle -o diamond_blastx_bc41_meta.csv"
   ]
  },
  {
   "cell_type": "markdown",
   "id": "faa47ee3-c75b-415e-9892-c3cbcfbd850b",
   "metadata": {},
   "source": [
    "This first round of assignation yielded conclusive results. I can move forward with polishing the assemblies and performing taxonomic assignation on the polished assemblies."
   ]
  },
  {
   "cell_type": "markdown",
   "id": "de18e878-2090-4561-bb93-89be92eb200d",
   "metadata": {},
   "source": [
    "## 6. Polish assembly with Medaka"
   ]
  },
  {
   "cell_type": "code",
   "execution_count": null,
   "id": "a70db3da-efe1-46a6-a18d-93d4f71f5c37",
   "metadata": {},
   "outputs": [],
   "source": [
    "# create polishing directory\n",
    "mkdir -p /scratch/whitefly_ont_sequencing/from_fastq/polishing\n",
    "cd /scratch/whitefly_ont_sequencing/from_fastq/polishing\n",
    "pwd"
   ]
  },
  {
   "cell_type": "code",
   "execution_count": null,
   "id": "8621ae38-d43b-4ea7-9525-c708b26fa4b4",
   "metadata": {},
   "outputs": [],
   "source": [
    "# load medaka\n",
    "module load medaka/1.5\n",
    "module list"
   ]
  },
  {
   "cell_type": "code",
   "execution_count": null,
   "id": "cfe74a5f-a0f3-4a46-8e63-5a5b6001e017",
   "metadata": {},
   "outputs": [],
   "source": [
    "# print medaka options\n",
    "medaka_consensus -h"
   ]
  },
  {
   "cell_type": "markdown",
   "id": "59165f0b-eb13-4468-bd39-ea066448849d",
   "metadata": {},
   "source": [
    "use -m flag to select the correct model  \\\n",
    ".pod5 were basecalled using dorado model dna_r10.4.1_e8.2_400bps_sup@v5.0.0 \\\n",
    "I will use the r104_e81_sup_g5015 model for polishing"
   ]
  },
  {
   "cell_type": "code",
   "execution_count": null,
   "id": "ff912d69-c9f9-41b6-875d-08eb9a2a846d",
   "metadata": {},
   "outputs": [],
   "source": [
    "# run medaka on meta assembly\n",
    "medaka_consensus -t 8 -m r104_e81_sup_g5015 -i /projects/medium/whitefly_ont/mapping/fastq/reads_vs_bemisia_bc92_unmapped.fastq -d /projects/medium/whitefly_ont/assembly/flye_output_bc92_meta/assembly.fasta -o medaka_bc92_meta"
   ]
  },
  {
   "cell_type": "code",
   "execution_count": null,
   "id": "69f11bfc-dc39-40f1-8ee4-b21f638d03da",
   "metadata": {},
   "outputs": [],
   "source": [
    "# run medaka on assembly\n",
    "medaka_consensus -t 8 -m r104_e81_sup_g5015 -i /projects/medium/whitefly_ont/mapping/fastq/reads_vs_bemisia_bc92_mapped.fastq -d /projects/medium/whitefly_ont/assembly/flye_output_bc92/assembly.fasta -o medaka_bc92"
   ]
  },
  {
   "cell_type": "code",
   "execution_count": null,
   "id": "d7e286ae-7592-4400-841b-1ce5d46a8b4a",
   "metadata": {},
   "outputs": [],
   "source": [
    "# change threads to 2\n",
    "[03:01:48 - Predict] Reducing threads to 2, anymore is a waste.\n",
    "[03:01:48 - Predict] It looks like you are running medaka without a GPU and attempted to set a high number of threads. We have scaled this down to an optimal number. If you wish to improve performance please see https://nanoporetech.github.io/medaka/installation.html#improving-parallelism."
   ]
  },
  {
   "cell_type": "code",
   "execution_count": null,
   "id": "b3cf1245-debb-4fb4-b73c-65f260aa78b0",
   "metadata": {},
   "outputs": [],
   "source": [
    "# polish assemblies obtained from raw reads (i.e. without mapping .fasta against the whitefly genome)\n",
    "\n",
    "medaka_consensus -t 8 -m r104_e81_sup_g5015 -i /projects/medium/whitefly_ont/FASTQ/SQK-NBD114-96_barcode92.fastq -d /projects/medium/whitefly_ont/assembly/flye_output_bc92_raw/assembly.fasta -o medaka_bc92_raw"
   ]
  },
  {
   "cell_type": "markdown",
   "id": "a9492550-f9c3-4555-84ff-6162ae9ed025",
   "metadata": {},
   "source": [
    "## 7. Compare quality of polished assemblies and unpolished ones (MetaQUAST)"
   ]
  },
  {
   "cell_type": "code",
   "execution_count": null,
   "id": "ff88251c-d8c1-4023-bb4f-f043d7a3ddb2",
   "metadata": {},
   "outputs": [],
   "source": [
    "# create quast_polished directory\n",
    "mkdir -p /scratch/whitefly_ont_sequencing/from_fastq/quast/polished\n",
    "cd /scratch/whitefly_ont_sequencing/from_fastq/quast/polished\n",
    "pwd"
   ]
  },
  {
   "cell_type": "code",
   "execution_count": null,
   "id": "05b274f3-5c93-48d6-8e8c-3c9f2d17a6e7",
   "metadata": {},
   "outputs": [],
   "source": [
    "# load QUAST\n",
    "module load quast/5.2.0\n",
    "module list"
   ]
  },
  {
   "cell_type": "code",
   "execution_count": null,
   "id": "2960fe8c-9056-4162-84e1-28ae2b5b3b74",
   "metadata": {},
   "outputs": [],
   "source": [
    "# run QUAST on polished assembly\n",
    "quast.py /projects/medium/whitefly_ont/polishing/medaka_bc92/consensus.fasta -o quast_polished_bc92 --silent"
   ]
  },
  {
   "cell_type": "code",
   "execution_count": null,
   "id": "e00062ee-da9c-41e1-82de-fc336c39f4e9",
   "metadata": {},
   "outputs": [],
   "source": [
    "# run MetaQUAST on polished meta assembly\n",
    "metaquast.py /projects/medium/whitefly_ont/polishing/medaka_bc92_meta/consensus.fasta -o quast_polished_bc92_meta --silent"
   ]
  },
  {
   "cell_type": "code",
   "execution_count": null,
   "id": "25079d9f-c2d4-475b-9eb0-2575b40b5426",
   "metadata": {},
   "outputs": [],
   "source": [
    "# create directory for comparisons\n",
    "mkdir -p /scratch/whitefly_ont_sequencing/from_fastq/quast/compared\n",
    "cd /scratch/whitefly_ont_sequencing/from_fastq/quast/compared\n",
    "pwd"
   ]
  },
  {
   "cell_type": "code",
   "execution_count": null,
   "id": "4cbe296f-8ec9-40c8-b02f-51c4e5801f40",
   "metadata": {},
   "outputs": [],
   "source": [
    "# compare outputs for polished and unpolished assemblies\n",
    "quast.py /projects/medium/whitefly_ont/polishing/medaka_bc92/consensus.fasta /projects/medium/whitefly_ont/assembly/flye_output_bc92/assembly.fasta -o quast_compared_bc92 --silent"
   ]
  },
  {
   "cell_type": "code",
   "execution_count": null,
   "id": "8127c1a5-d132-4a19-8127-23cd0de1e861",
   "metadata": {},
   "outputs": [],
   "source": [
    "# compare outputs for polished and unpolished meta assemblies\n",
    "metaquast.py /projects/medium/whitefly_ont/polishing/medaka_bc92_meta/consensus.fasta /projects/medium/whitefly_ont/assembly/flye_output_bc92_meta/assembly.fasta -o quast_compared_bc92_meta --silent"
   ]
  },
  {
   "cell_type": "markdown",
   "id": "666dd915-dc8d-4642-97b3-76b749892a29",
   "metadata": {},
   "source": [
    "# E. Taxonomic assignment"
   ]
  },
  {
   "cell_type": "markdown",
   "id": "e8a44c48-25f6-48b6-9bf5-1f3b4429f6ea",
   "metadata": {},
   "source": [
    "## 1. Download relevant databases"
   ]
  },
  {
   "cell_type": "code",
   "execution_count": null,
   "id": "2e198741-54d0-4f0f-8588-c362c1b35fb6",
   "metadata": {},
   "outputs": [],
   "source": [
    "# it can take several hours to download some of the large databases (e.g. bacteria)"
   ]
  },
  {
   "cell_type": "code",
   "execution_count": null,
   "id": "84e50433-db5a-456b-8c28-2149208a5026",
   "metadata": {},
   "outputs": [],
   "source": [
    "mkdir -p /scratch/whitefly_ont_sequencing/from_fastq/refseq\n",
    "cd /scratch/whitefly_ont_sequencing/from_fastq/refseq\n",
    "pwd"
   ]
  },
  {
   "cell_type": "markdown",
   "id": "2ac50ab9-098d-43c0-9ffc-4af464039ed8",
   "metadata": {},
   "source": [
    "### 1.1. Bacteria database"
   ]
  },
  {
   "cell_type": "code",
   "execution_count": null,
   "id": "7d05fc3e-7dcc-4d95-9e14-cec56ac96351",
   "metadata": {},
   "outputs": [],
   "source": [
    "# download bacteria database\n",
    "wget -r --no-parent -A bacteria.*.protein.faa.gz ftp://ftp.ncbi.nlm.nih.gov/refseq/release/bacteria/"
   ]
  },
  {
   "cell_type": "code",
   "execution_count": null,
   "id": "cbdf7785-139f-4f80-807b-17c8d93f639d",
   "metadata": {},
   "outputs": [],
   "source": [
    "# merge .faa.gz files into one\n",
    "cat /projects/medium/whitefly_ont/refseq/ftp.ncbi.nlm.nih.gov/refseq/release/bacteria/bacteria.*.protein.faa.gz > bacteria.protein.faa.gz"
   ]
  },
  {
   "cell_type": "code",
   "execution_count": null,
   "id": "ae36e1af-605b-46db-971d-e60e375925c7",
   "metadata": {},
   "outputs": [],
   "source": [
    "# unzip .faa.gz (although Diamond online manual states that input protein reference database file may be gzip compressed)\n",
    "gunzip /projects/medium/whitefly_ont/refseq/bacteria.protein.faa.gz"
   ]
  },
  {
   "cell_type": "code",
   "execution_count": null,
   "id": "9d931cc0-87d8-41b2-a002-59f7e0fd3cb3",
   "metadata": {},
   "outputs": [],
   "source": [
    "# delete download directory\n",
    "rm -r /projects/medium/whitefly_ont/refseq/ftp.ncbi.nlm.nih.gov/"
   ]
  },
  {
   "cell_type": "markdown",
   "id": "72aac771-37f6-45f1-b5fe-cb30feced717",
   "metadata": {},
   "source": [
    "### 1.2.1. Fungi database (DNA sequence)"
   ]
  },
  {
   "cell_type": "code",
   "execution_count": null,
   "id": "48b13c53-79ca-4d4b-93d4-b46ae0d7d7a2",
   "metadata": {},
   "outputs": [],
   "source": [
    "# download fungi genomic database\n",
    "wget -r --no-parent -A fungi.*.genomic.fna.gz ftp://ftp.ncbi.nlm.nih.gov/refseq/release/fungi/"
   ]
  },
  {
   "cell_type": "code",
   "execution_count": null,
   "id": "bc1ce74a-8455-4dfa-8541-30d2c9a2ac11",
   "metadata": {},
   "outputs": [],
   "source": [
    "# merge .fna.gz files into one\n",
    "cat /scratch/whitefly_ont_sequencing/from_fastq/refseq/ftp.ncbi.nlm.nih.gov/refseq/release/fungi/fungi.*.genomic.fna.gz > fungi.genomic.fna.gz"
   ]
  },
  {
   "cell_type": "code",
   "execution_count": null,
   "id": "9a74613c-25dc-4607-84c4-f5d553aaaf21",
   "metadata": {},
   "outputs": [],
   "source": [
    "# unzip .fna.gz (although Diamond online manual states that input protein reference database file may be gzip compressed)\n",
    "gunzip /scratch/whitefly_ont_sequencing/from_fastq/refseq/fungi.genomic.fna.gz"
   ]
  },
  {
   "cell_type": "code",
   "execution_count": null,
   "id": "495c79fd-202e-4bdb-9e2f-70f6c38945ce",
   "metadata": {},
   "outputs": [],
   "source": [
    "# delete download directory\n",
    "rm -r /scratch/whitefly_ont_sequencing/from_fastq/refseq/ftp.ncbi.nlm.nih.gov/"
   ]
  },
  {
   "cell_type": "markdown",
   "id": "fee2970e-9daf-41bc-8275-5dfb839292fe",
   "metadata": {},
   "source": [
    "### 1.2.2. Fungi database (protein sequence)"
   ]
  },
  {
   "cell_type": "code",
   "execution_count": null,
   "id": "f78e7ac1-84e1-4d4d-8fe5-f04789eb9828",
   "metadata": {},
   "outputs": [],
   "source": [
    "# download fungi protein database\n",
    "wget -r --no-parent -A fungi.*.protein.faa.gz ftp://ftp.ncbi.nlm.nih.gov/refseq/release/fungi/"
   ]
  },
  {
   "cell_type": "code",
   "execution_count": null,
   "id": "185a49c6-fdc5-4446-8d99-f6b10aca4243",
   "metadata": {},
   "outputs": [],
   "source": [
    "# merge .faa.gz files into one\n",
    "cat /scratch/whitefly_ont_sequencing/from_fastq/refseq/ftp.ncbi.nlm.nih.gov/refseq/release/fungi/fungi.*.genomic.fna.gz > fungi.protein.faa.gz"
   ]
  },
  {
   "cell_type": "code",
   "execution_count": null,
   "id": "19bc8513-0753-4ab2-ba83-caa32400df37",
   "metadata": {},
   "outputs": [],
   "source": [
    "# unzip .faa.gz (although Diamond online manual states that input protein reference database file may be gzip compressed)\n",
    "gunzip /scratch/whitefly_ont_sequencing/from_fastq/refseq/fungi.protein.faa.gz"
   ]
  },
  {
   "cell_type": "code",
   "execution_count": null,
   "id": "3da3ebf6-10b9-469e-a88f-2b2fdd10830a",
   "metadata": {},
   "outputs": [],
   "source": [
    "# delete download directory\n",
    "rm -r /scratch/whitefly_ont_sequencing/from_fastq/refseq/ftp.ncbi.nlm.nih.gov/"
   ]
  },
  {
   "cell_type": "markdown",
   "id": "bc0ccdb5-5204-440c-acac-10260d5c4438",
   "metadata": {},
   "source": [
    "### 1.3. Virus database"
   ]
  },
  {
   "cell_type": "code",
   "execution_count": null,
   "id": "578e5864-69f0-4521-9c45-7d277dec3c32",
   "metadata": {},
   "outputs": [],
   "source": [
    "# download virus database \n",
    "## download protein database, as there are a lot of recombinants for viruses\n",
    "wget -r --no-parent https://ftp.ncbi.nlm.nih.gov/refseq/release/viral/viral.1.protein.faa.gz"
   ]
  },
  {
   "cell_type": "code",
   "execution_count": null,
   "id": "d37b11ee-6ee2-4721-a744-cab37f4a2279",
   "metadata": {},
   "outputs": [],
   "source": [
    "# unzip .fna.gz (although Diamond online manual states that input protein reference database file may be gzip compressed)\n",
    "gunzip /scratch/whitefly_ont_sequencing/from_fastq/refseq/ftp.ncbi.nlm.nih.gov/refseq/release/viral/viral.1.protein.faa.gz"
   ]
  },
  {
   "cell_type": "markdown",
   "id": "4d52398e-b140-4c7a-a31a-344729bd8d01",
   "metadata": {},
   "source": [
    "### 1.4. Clean-up"
   ]
  },
  {
   "cell_type": "code",
   "execution_count": null,
   "id": "0f8c9370-5836-41d3-8924-fa9098b514f2",
   "metadata": {},
   "outputs": [],
   "source": [
    "# move and rename reference genome to refseq directory\n",
    "mv /scratch/whitefly_ont_sequencing/from_fastq/refseq/ftp.ncbi.nlm.nih.gov/refseq/release/viral/viral.1.protein.faa ./virus.protein.faa\n",
    "\n",
    "# delete download directory\n",
    "rm -r /scratch/whitefly_ont_sequencing/from_fastq/refseq/ftp.ncbi.nlm.nih.gov/"
   ]
  },
  {
   "cell_type": "markdown",
   "id": "599289a2-a8c7-4957-96a2-c4d61c40cde3",
   "metadata": {},
   "source": [
    "## 2. Create Diamond databases"
   ]
  },
  {
   "cell_type": "code",
   "execution_count": null,
   "id": "9d3827b6-78c0-4fc8-808e-1d9bfdb211b8",
   "metadata": {},
   "outputs": [],
   "source": [
    "# create diamond directory\n",
    "mkdir -p /projects/medium/whitefly_ont/diamond\n",
    "cd /projects/medium/whitefly_ont/diamond\n",
    "pwd"
   ]
  },
  {
   "cell_type": "code",
   "execution_count": null,
   "id": "5280bc34-a4fe-4a99-b42b-3e67bc5243f6",
   "metadata": {},
   "outputs": [],
   "source": [
    "# load Diamond\n",
    "module load diamond/2.0.11\n",
    "module list"
   ]
  },
  {
   "cell_type": "code",
   "execution_count": null,
   "id": "232adc89-c2fa-4b8c-9145-346e3a2e8617",
   "metadata": {},
   "outputs": [],
   "source": [
    "# for bacteria, use diamond database available on cluster\n",
    "/share/banks/diamond/nr/21-09/diamond_nr.dmnd"
   ]
  },
  {
   "cell_type": "code",
   "execution_count": null,
   "id": "86665ba8-7898-4ec1-a7f7-b1e63b491516",
   "metadata": {},
   "outputs": [],
   "source": [
    "# create reference database for bacteria using protein sequences from NCBI\n",
    "diamond makedb --in /projects/medium/whitefly_ont/refseq/bacteria.protein.faa -d bacteriadb"
   ]
  },
  {
   "cell_type": "code",
   "execution_count": null,
   "id": "e3b2e3df-fbe7-41aa-9c77-ecb3cd7993ae",
   "metadata": {},
   "outputs": [],
   "source": [
    "# create reference database for fungi using DNA sequences from NCBI\n",
    "diamond makedb --in /projects/medium/whitefly_ont/refseq/fungi.genomic.fna -d fungidb_dna\n",
    "## received the following error message\n",
    "Error: The sequences are expected to be proteins but only contain DNA letters. Use the option --ignore-warnings to proceed.\n",
    "### ran the following command\n",
    "diamond makedb --in /projects/medium/whitefly_ont/refseq/fungi.genomic.fna -d fungidb_dna --ignore-warnings"
   ]
  },
  {
   "cell_type": "code",
   "execution_count": null,
   "id": "d8598f3a-34a0-4481-88fa-c198ebeb621a",
   "metadata": {},
   "outputs": [],
   "source": [
    "# create reference database for fungi using protein sequences from NCBI\n",
    "diamond makedb --in /projects/medium/whitefly_ont/refseq/fungi.protein.faa -d fungidb"
   ]
  },
  {
   "cell_type": "code",
   "execution_count": null,
   "id": "6b795633-add9-49c7-a101-fde88ee48593",
   "metadata": {},
   "outputs": [],
   "source": [
    "# create reference database for viruses using protein sequences from NCBI\n",
    "diamond makedb --in /projects/medium/whitefly_ont/refseq/virus.protein.faa -d virusdb"
   ]
  },
  {
   "cell_type": "markdown",
   "id": "7bde54d2-8fb2-4079-9b9a-5e5942b3e601",
   "metadata": {},
   "source": [
    "## 3. Perform taxonomic assignment"
   ]
  },
  {
   "cell_type": "code",
   "execution_count": null,
   "id": "248984a0-b978-498f-acdf-1aef168e73e0",
   "metadata": {},
   "outputs": [],
   "source": [
    "# create diamond directories\n",
    "mkdir -p /scratch/whitefly_ont_sequencing/from_fastq/diamond/virus\n",
    "mkdir -p /scratch/whitefly_ont_sequencing/from_fastq/diamond/fungi\n",
    "mkdir -p /scratch/whitefly_ont_sequencing/from_fastq/diamond/bacteria"
   ]
  },
  {
   "cell_type": "markdown",
   "id": "393405e2-1434-4121-84b5-b35c937999fc",
   "metadata": {},
   "source": [
    "### 3.1. Against virus database"
   ]
  },
  {
   "cell_type": "code",
   "execution_count": null,
   "id": "b0fe447a-5310-40cb-877d-761dd2f18eb0",
   "metadata": {},
   "outputs": [],
   "source": [
    "# blast polished assemblies against virusdb\n",
    "cd /scratch/whitefly_ont_sequencing/from_fastq/diamond/virus\n",
    "pwd\n",
    "diamond blastx --very-sensitive --threads 8 --db /projects/medium/whitefly_ont/diamond/virusdb.dmnd --header --outfmt 6 qtitle stitle qstart qend sstart send evalue bitscore length pident mismatch gapopen --query /projects/medium/whitefly_ont/polishing/medaka_bc92/consensus.fasta -o diamond_blastx_virus_bc92.csv"
   ]
  },
  {
   "cell_type": "code",
   "execution_count": null,
   "id": "6ffe9eca-479d-4f6f-8a5c-e5acae427e28",
   "metadata": {},
   "outputs": [],
   "source": [
    "# blast polished meta assemblies against virusdb\n",
    "cd /scratch/whitefly_ont_sequencing/from_fastq/diamond/virus\n",
    "pwd\n",
    "diamond blastx --very-sensitive --threads 8 --db /projects/medium/whitefly_ont/diamond/virusdb.dmnd --header --outfmt 6 qtitle stitle qstart qend sstart send evalue bitscore length pident mismatch gapopen --query /projects/medium/whitefly_ont/polishing/medaka_bc92_meta/consensus.fasta -o diamond_blastx_virus_bc92_meta.csv"
   ]
  },
  {
   "cell_type": "code",
   "execution_count": null,
   "id": "5ba80a66-b97d-49e1-a6e6-38aee2f66e6c",
   "metadata": {},
   "outputs": [],
   "source": [
    "# blast polished raw assemblies against virusdb\n",
    "cd /scratch/whitefly_ont_sequencing/from_fastq/diamond/virus\n",
    "pwd\n",
    "diamond blastx --very-sensitive --threads 8 --db /projects/medium/whitefly_ont/diamond/virusdb.dmnd --header --outfmt 6 qtitle stitle qstart qend sstart send evalue bitscore length pident mismatch gapopen --query /projects/medium/whitefly_ont/polishing/medaka_bc92_raw/consensus.fasta -o diamond_blastx_virus_bc92_raw.csv"
   ]
  },
  {
   "cell_type": "markdown",
   "id": "8cbcc7e7-3d09-45ff-97f4-00aaa6936484",
   "metadata": {},
   "source": [
    "### 3.2. Against fungi database"
   ]
  },
  {
   "cell_type": "code",
   "execution_count": null,
   "id": "35d20253-6e9e-4fd8-9600-917e6cd67369",
   "metadata": {},
   "outputs": [],
   "source": [
    "# blast polished assemblies against fungidb\n",
    "cd /scratch/whitefly_ont_sequencing/from_fastq/diamond/fungus\n",
    "pwd\n",
    "diamond blastx --very-sensitive --threads 8 --db /projects/medium/whitefly_ont/diamond/fungidb.dmnd --header --outfmt 6 qtitle stitle qstart qend sstart send evalue bitscore length pident mismatch gapopen --query /projects/medium/whitefly_ont/polishing/medaka_bc92/consensus.fasta -o diamond_blastx_fungi_bc92.csv"
   ]
  },
  {
   "cell_type": "code",
   "execution_count": null,
   "id": "491ccac2-0e0b-495e-bf09-43b425a7cd03",
   "metadata": {},
   "outputs": [],
   "source": [
    "# blast polished meta assemblies against fungidb\n",
    "cd /scratch/whitefly_ont_sequencing/from_fastq/diamond/fungi\n",
    "pwd\n",
    "diamond blastx --very-sensitive --threads 8 --db /projects/medium/whitefly_ont/diamond/fungidb.dmnd --header --outfmt 6 qtitle stitle qstart qend sstart send evalue bitscore length pident mismatch gapopen --query /projects/medium/whitefly_ont/polishing/medaka_bc92_meta/consensus.fasta -o diamond_blastx_fungi_bc92_meta.csv"
   ]
  },
  {
   "cell_type": "code",
   "execution_count": null,
   "id": "de8d5953-cc43-4a00-ac42-37c997323a6e",
   "metadata": {},
   "outputs": [],
   "source": [
    "# blast polished raw assemblies against fungidb\n",
    "cd /scratch/whitefly_ont_sequencing/from_fastq/diamond/virus\n",
    "pwd\n",
    "diamond blastx --very-sensitive --threads 8 --db /projects/medium/whitefly_ont/diamond/fungidb.dmnd --header --outfmt 6 qtitle stitle qstart qend sstart send evalue bitscore length pident mismatch gapopen --query /projects/medium/whitefly_ont/polishing/medaka_bc92_raw/consensus.fasta -o diamond_blastx_fungi_bc92_raw.csv"
   ]
  },
  {
   "cell_type": "markdown",
   "id": "94c3e9b9-fcbe-4854-922f-1d43878d701e",
   "metadata": {},
   "source": [
    "### 3.3. Against bacteria database"
   ]
  },
  {
   "cell_type": "code",
   "execution_count": null,
   "id": "15695ba9-4a99-4085-bdb4-53670cb5fab4",
   "metadata": {},
   "outputs": [],
   "source": [
    "# blast polished meta assemblies against diamond_nr.dmnd\n",
    "cd /scratch/whitefly_ont_sequencing/from_fastq/diamond/bacteria\n",
    "pwd\n",
    "diamond blastx --very-sensitive --threads 8 --db /share/banks/diamond/nr/21-09/diamond_nr.dmnd --header --outfmt 6 qtitle stitle qstart qend sstart send evalue bitscore length pident mismatch gapopen --query /projects/medium/whitefly_ont/polishing/medaka_bc92_meta/consensus.fasta -o diamond_blastx_bacteria_bc92_meta.csv"
   ]
  },
  {
   "cell_type": "code",
   "execution_count": null,
   "id": "41fa7a8e-3182-46b0-9986-97fcaade2744",
   "metadata": {},
   "outputs": [],
   "source": [
    "# blast polished meta assemblies against bacteriadb\n",
    "cd /scratch/whitefly_ont_sequencing/from_fastq/diamond/bacteria\n",
    "pwd\n",
    "diamond blastx --very-sensitive --threads 8 --db /projects/medium/whitefly_ont/diamond/bacteriadb.dmnd --header --outfmt 6 qtitle stitle qstart qend sstart send evalue bitscore length pident mismatch gapopen --query /projects/medium/whitefly_ont/polishing/medaka_bc92_meta/consensus.fasta -o diamond_blastx_bacteria_bc92_meta.csv"
   ]
  },
  {
   "cell_type": "markdown",
   "id": "26200f51-347a-4ff2-88a6-cc8c55ce9534",
   "metadata": {},
   "source": [
    "## 4. Perform assignation of mapped reads against _B. tabaci_ genome"
   ]
  },
  {
   "cell_type": "code",
   "execution_count": null,
   "id": "3a420046-2c0f-45c7-9876-b3435dd7d14c",
   "metadata": {},
   "outputs": [],
   "source": [
    "# create diamond directory\n",
    "mkdir -p /projects/medium/whitefly_ont/diamond\n",
    "cd /projects/medium/whitefly_ont/diamond\n",
    "pwd"
   ]
  },
  {
   "cell_type": "code",
   "execution_count": null,
   "id": "225be3d5-88bd-4910-9269-9725223db369",
   "metadata": {},
   "outputs": [],
   "source": [
    "# load Diamond\n",
    "module load diamond/2.0.11\n",
    "module list"
   ]
  },
  {
   "cell_type": "code",
   "execution_count": null,
   "id": "0fc94656-3d89-4c8e-9df5-bc8d8881d123",
   "metadata": {},
   "outputs": [],
   "source": [
    "# create reference database for Bemisia tabaci using DNA sequence\n",
    "diamond makedb --in /projects/medium/whitefly_ont/refseq/b_tabaci.genomic.fna -d bemisiadb_dna"
   ]
  },
  {
   "cell_type": "code",
   "execution_count": null,
   "id": "8d3c2958-d915-4c44-a22a-eaa4631c5867",
   "metadata": {},
   "outputs": [],
   "source": [
    "# download Bemisia tabaci reference protein sequence\n",
    "mkdir -p /scratch/whitefly_ont_sequencing/from_fastq/refseq\n",
    "cd /scratch/whitefly_ont_sequencing/from_fastq/refseq\n",
    "pwd\n",
    "\n",
    "wget -r --no-parent https://ftp.ncbi.nlm.nih.gov/genomes/refseq/invertebrate/Bemisia_tabaci/all_assembly_versions/GCF_001854935.1_ASM185493v1/GCF_001854935.1_ASM185493v1_protein.faa.gz"
   ]
  },
  {
   "cell_type": "code",
   "execution_count": null,
   "id": "497e251b-b473-42d5-a4f7-60e9c9b3d038",
   "metadata": {},
   "outputs": [],
   "source": [
    "# unzip .fna.gz\n",
    "gunzip /scratch/whitefly_ont_sequencing/from_fastq/refseq/ftp.ncbi.nlm.nih.gov/genomes/refseq/invertebrate/Bemisia_tabaci/all_assembly_versions/GCF_001854935.1_ASM185493v1/GCF_001854935.1_ASM185493v1_protein.faa.gz"
   ]
  },
  {
   "cell_type": "code",
   "execution_count": null,
   "id": "25e04c92-1a34-4f96-9d20-5cd723c2da87",
   "metadata": {},
   "outputs": [],
   "source": [
    "# move and rename reference genome to refseq directory\n",
    "mv /scratch/whitefly_ont_sequencing/from_fastq/refseq/ftp.ncbi.nlm.nih.gov/genomes/refseq/invertebrate/Bemisia_tabaci/all_assembly_versions/GCF_001854935.1_ASM185493v1/GCF_001854935.1_ASM185493v1_protein.faa ./b_tabaci.protein.faa\n",
    "\n",
    "# delete download directory\n",
    "rm -r /scratch/whitefly_ont_sequencing/from_fastq/refseq/ftp.ncbi.nlm.nih.gov/\n",
    "\n",
    "mv /scratch/whitefly_ont_sequencing/from_fastq/refseq/b_tabaci.protein.faa /projects/medium/whitefly_ont/refseq/"
   ]
  },
  {
   "cell_type": "code",
   "execution_count": null,
   "id": "252fbcda-14ee-45d5-a1b8-8dbda1c48ed5",
   "metadata": {},
   "outputs": [],
   "source": [
    "# create reference database for Bemisia tabaci using protein sequence\n",
    "cd /projects/medium/whitefly_ont/diamond\n",
    "pwd\n",
    "diamond makedb --in /projects/medium/whitefly_ont/refseq/b_tabaci.protein.faa -d bemisiadb"
   ]
  },
  {
   "cell_type": "code",
   "execution_count": null,
   "id": "9cf1f51b-3254-4453-9273-740a3b7557fd",
   "metadata": {},
   "outputs": [],
   "source": [
    "mkdir -p /scratch/whitefly_ont_sequencing/from_fastq/diamond/bemisia\n",
    "cd /scratch/whitefly_ont_sequencing/from_fastq/diamond/bemisia\n",
    "pwd"
   ]
  },
  {
   "cell_type": "code",
   "execution_count": null,
   "id": "c737ffbb-3562-4eab-a8e9-d2fd242ab6d0",
   "metadata": {},
   "outputs": [],
   "source": [
    "diamond blastx --very-sensitive --threads 8 --db /projects/medium/whitefly_ont/diamond/bemisiadb.dmnd --header --outfmt 6 qtitle stitle qstart qend sstart send evalue bitscore length pident mismatch gapopen --query /projects/medium/whitefly_ont/polishing/medaka_bc92/consensus.fasta -o diamond_blastx_bemisia_bc92.csv"
   ]
  },
  {
   "cell_type": "code",
   "execution_count": null,
   "id": "0f14e7b2-7701-4dad-a086-00d3554c29c0",
   "metadata": {},
   "outputs": [],
   "source": []
  },
  {
   "cell_type": "code",
   "execution_count": null,
   "id": "d514d89f-b884-4114-b9f3-813eda7a7ada",
   "metadata": {},
   "outputs": [],
   "source": []
  }
 ],
 "metadata": {
  "kernelspec": {
   "display_name": "Bash",
   "language": "bash",
   "name": "bash"
  },
  "language_info": {
   "codemirror_mode": "shell",
   "file_extension": ".sh",
   "mimetype": "text/x-sh",
   "name": "bash"
  }
 },
 "nbformat": 4,
 "nbformat_minor": 5
}
