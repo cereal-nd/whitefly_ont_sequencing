{
 "cells": [
  {
   "cell_type": "markdown",
   "id": "280c4391-8056-47c6-a2eb-5f8738c185ca",
   "metadata": {},
   "source": [
    "# Metafly: a whitefly metagenomics project\n",
    "By Cyrielle Ndougonna \\\n",
    "Supervision: Ezéchiel B. Tibiri & Fidèle Tiendrébéogo\n",
    "\n",
    "project aims: \\\n",
    "O1: characterise whitefly (_Bemisia tabaci_) genotypes circulating in the two study areas (Bonoua and N'Djem) \\\n",
    "O2: establish the diversity of viruses associated with whiteflies originating from Bonoua and N'Djem \\\n",
    "O3: catalogue the endosymbiotic bacteria associated with whiteflies originating from Bonoua and N'Djem\n",
    "\n",
    "This notebook describes the steps in the bioinformatics pipeline used for the analysis of whitefly Oxford Nanopore reads\n",
    "The analysis was executed on the UJKZ HPC."
   ]
  },
  {
   "cell_type": "markdown",
   "id": "2c8a9bb4-2215-496d-abdb-c667ae44b0f0",
   "metadata": {},
   "source": [
    "# Getting started"
   ]
  },
  {
   "cell_type": "code",
   "execution_count": null,
   "id": "21ef7c69-4bd6-4539-9d41-8c71bdf0439d",
   "metadata": {},
   "outputs": [],
   "source": [
    "# connect to distant server\n",
    "ssh bioinfo-master1.ird.fr -l ndougonna\n",
    "\n",
    "# check available partitions\n",
    "sinfo\n",
    "\n",
    "# launch an interactive session\n",
    "srun -c12 --pty bash -i\n",
    "\n",
    "# connect to node 23\n",
    "srun -N 23 -c12 --pty bash -i"
   ]
  },
  {
   "cell_type": "code",
   "execution_count": null,
   "id": "8e76c355-0320-4b5f-8300-70886738f0f6",
   "metadata": {},
   "outputs": [],
   "source": [
    "# create project directory in /scratch\n",
    "mkdir -p /scratch/whitefly_ont_sequencing/from_fastq"
   ]
  },
  {
   "cell_type": "code",
   "execution_count": null,
   "id": "b0bd05e8-7782-4baf-adaa-4c1f24541ed2",
   "metadata": {},
   "outputs": [],
   "source": [
    "# raw data is located in the following directory\n",
    "/projects/medium/whitefly_ont/FASTQ"
   ]
  },
  {
   "cell_type": "code",
   "execution_count": null,
   "id": "9bc09307-e216-48a9-893b-215c0143a398",
   "metadata": {},
   "outputs": [],
   "source": [
    "# barcodes of interest are BC92, BC93, BC94, BC95, BC96, BC41, BC42, BC43, BC44, BC45, BC46, BC47"
   ]
  },
  {
   "cell_type": "markdown",
   "id": "6a524b18-a871-4063-8bca-80a11daf0482",
   "metadata": {},
   "source": [
    "# A. Quality control with NanoPlot"
   ]
  },
  {
   "cell_type": "markdown",
   "id": "e9be0944-5441-4c81-9ba7-324de4245083",
   "metadata": {},
   "source": [
    "## 1. Create working directory qc"
   ]
  },
  {
   "cell_type": "code",
   "execution_count": null,
   "id": "c281be26-eb85-461a-a064-d43ad9360808",
   "metadata": {},
   "outputs": [],
   "source": [
    "# create qc directory\n",
    "mkdir -p /scratch/whitefly_ont_sequencing/from_fastq/qc\n",
    "cd /scratch/whitefly_ont_sequencing/from_fastq/qc\n",
    "pwd"
   ]
  },
  {
   "cell_type": "code",
   "execution_count": null,
   "id": "ea713036-4658-4faf-bfaa-dc49d16e35c2",
   "metadata": {},
   "outputs": [],
   "source": [
    "# check how many reads were generated\n",
    "awk '{s++}END{print s/4}' /projects/medium/whitefly_ont/FASTQ/SQK-NBD114-96_barcode92.fastq"
   ]
  },
  {
   "cell_type": "code",
   "execution_count": null,
   "id": "14a386c5-4f4b-4a21-8c26-15774b0ce4c9",
   "metadata": {},
   "outputs": [],
   "source": [
    "# check how many bases were sequenced\n",
    "seqtk seq -A /projects/medium/whitefly_ont/FASTQ/SQK-NBD114-96_barcode92.fastq | grep -v \">\" | wc -m"
   ]
  },
  {
   "cell_type": "markdown",
   "id": "c7750abe-a5d7-4574-b020-fc7289385714",
   "metadata": {},
   "source": [
    "## 2. Run NanoPlot"
   ]
  },
  {
   "cell_type": "code",
   "execution_count": null,
   "id": "39ba9526-4e03-4402-9c1b-6228460c4b0d",
   "metadata": {},
   "outputs": [],
   "source": [
    "# load NanoPlot\n",
    "module load nanoplot/1.43.0\n",
    "module list"
   ]
  },
  {
   "cell_type": "code",
   "execution_count": null,
   "id": "e1206e6c-1153-4452-80fb-6e5df3b4600c",
   "metadata": {},
   "outputs": [],
   "source": [
    "# print NanoPlot help menu\n",
    "NanoPlot --help"
   ]
  },
  {
   "cell_type": "code",
   "execution_count": null,
   "id": "1f725d3d-0aa5-4ee0-906c-41817eaff905",
   "metadata": {},
   "outputs": [],
   "source": [
    "#run NanoPlot\n",
    "NanoPlot -t 8 -o /scratch/whitefly_ont_sequencing/from_fastq/qc \\\n",
    "            --fastq /projects/medium/whitefly_ont/FASTQ/*.fastq \\\n",
    "            --plots kde hex dot\n",
    "### I received a message saying that hex was deprecated and needed to be run using --legacy hex; other dependencies needed to be installed for this"
   ]
  },
  {
   "cell_type": "code",
   "execution_count": null,
   "id": "f44c6427-bc4d-4040-bc59-e8eb2bf4d38c",
   "metadata": {},
   "outputs": [],
   "source": [
    "# examine QC reports\n",
    "cd /scratch/whitefly_ont_sequencing/from_fastq/qc/barcode92\n",
    "cat NanoStats.txt"
   ]
  },
  {
   "cell_type": "markdown",
   "id": "e5636441-4b2b-4347-81f2-ac7119416a2d",
   "metadata": {},
   "source": [
    "# C. Mapping"
   ]
  },
  {
   "cell_type": "markdown",
   "id": "277edc7d-cea3-404b-a103-9ad60d9dde41",
   "metadata": {},
   "source": [
    "Here, .fastq are mapped against the reference _Bemisia tabaci_ genome. Mapped reads will be assembled separately from unmapped reads. \n",
    "for mapped: _de novo_ assembly and assignation using _Bemisia tabaci_ database\n",
    "for unmapped: _de novo_ assembly and assignation using viral database; _de novo_ assembly and assignation using bacteria database; _de novo_ assembly and assignation using fungi database"
   ]
  },
  {
   "cell_type": "code",
   "execution_count": null,
   "id": "b84883a3-3827-47b5-99ed-89b74198f221",
   "metadata": {},
   "outputs": [],
   "source": [
    "# download _Bemisia tabaci_ reference genome\n",
    "mkdir -p /scratch/whitefly_ont_sequencing/from_fastq/refseq\n",
    "cd /scratch/whitefly_ont_sequencing/from_fastq/refseq\n",
    "pwd\n",
    "\n",
    "wget -r --no-parent https://ftp.ncbi.nlm.nih.gov/genomes/refseq/invertebrate/Bemisia_tabaci/all_assembly_versions/GCF_001854935.1_ASM185493v1/GCF_001854935.1_ASM185493v1_genomic.fna.gz"
   ]
  },
  {
   "cell_type": "code",
   "execution_count": null,
   "id": "b3b39113-b930-4a5c-8934-fc436d00df45",
   "metadata": {},
   "outputs": [],
   "source": [
    "# unzip .fna.gz\n",
    "gunzip /scratch/whitefly_ont_sequencing/from_fastq/refseq/ftp.ncbi.nlm.nih.gov/genomes/refseq/invertebrate/Bemisia_tabaci/all_assembly_versions/GCF_001854935.1_ASM185493v1/GCF_001854935.1_ASM185493v1_genomic.fna.gz"
   ]
  },
  {
   "cell_type": "code",
   "execution_count": null,
   "id": "a43798ab-5399-464c-a218-30765533db87",
   "metadata": {},
   "outputs": [],
   "source": [
    "# move and rename reference genome to refseq directory\n",
    "mv /scratch/whitefly_ont_sequencing/from_fastq/refseq/ftp.ncbi.nlm.nih.gov/genomes/refseq/invertebrate/Bemisia_tabaci/all_assembly_versions/GCF_001854935.1_ASM185493v1/GCF_001854935.1_ASM185493v1_genomic.fna ./b_tabaci.genomic.fna\n",
    "\n",
    "# delete download directory\n",
    "rm -r /scratch/whitefly_ont_sequencing/from_fastq/refseq/ftp.ncbi.nlm.nih.gov/"
   ]
  },
  {
   "cell_type": "code",
   "execution_count": null,
   "id": "f83a4644-e382-4aaf-8d6b-3075adb9ea9f",
   "metadata": {},
   "outputs": [],
   "source": [
    "# load minimap2\n",
    "module load minimap2/2.24\n",
    "module list"
   ]
  },
  {
   "cell_type": "code",
   "execution_count": null,
   "id": "225ac162-30d9-4c6d-b444-de576c54d7b3",
   "metadata": {},
   "outputs": [],
   "source": [
    "# print minimap2 help menu\n",
    "minimap2 --help"
   ]
  },
  {
   "cell_type": "code",
   "execution_count": null,
   "id": "1d301653-5aea-4cf7-bace-acc30f2ad695",
   "metadata": {},
   "outputs": [],
   "source": [
    "######################## check for .fastq names and update cell below before launching minimap2"
   ]
  },
  {
   "cell_type": "code",
   "execution_count": null,
   "id": "320033c9-5e30-4311-9980-d83836eb50ed",
   "metadata": {},
   "outputs": [],
   "source": [
    "# create mapping directory\n",
    "mkdir -p /scratch/whitefly_ont_sequencing/from_fastq/mapping\n",
    "cd /scratch/whitefly_ont_sequencing/from_fastq/mapping\n",
    "pwd\n",
    "\n",
    "# run minimap2\n",
    "minimap2 -t 8 -ax map-ont /scratch/whitefly_ont_sequencing/from_fastq/refseq/b_tabaci.genomic.fna /projects/medium/whitefly_ont/FASTQ/SQK-NBD114-96_barcode92.fastq -o reads_vs_bemisia_bc92.sam"
   ]
  },
  {
   "cell_type": "code",
   "execution_count": null,
   "id": "b01cb241-49d2-4801-b5c0-fd3b4a859d47",
   "metadata": {},
   "outputs": [],
   "source": [
    "# print mapping statistics\n",
    "module load samtools/1.19.2\n",
    "module list\n",
    "\n",
    "samtools flagstats reads_vs_bemisia_bc92.sam"
   ]
  },
  {
   "cell_type": "code",
   "execution_count": null,
   "id": "75f7206d-2cac-4b94-8704-4791e36391f9",
   "metadata": {},
   "outputs": [],
   "source": [
    "# convert .sam to .bam\n",
    "samtools view -b -o reads_vs_bemisia_bc92.bam reads_vs_bemisia_bc92.sam "
   ]
  },
  {
   "cell_type": "code",
   "execution_count": null,
   "id": "b03b541f-699d-456b-8e41-68ab9b69e83f",
   "metadata": {},
   "outputs": [],
   "source": [
    "# check file size\n",
    "ls -alhrt reads_vs_bemisia_bc92.bam reads_vs_bemisia_bc92.sam"
   ]
  },
  {
   "cell_type": "code",
   "execution_count": null,
   "id": "002a63a6-0721-4f47-966b-c470e77681fa",
   "metadata": {},
   "outputs": [],
   "source": [
    "# extract mapped reads; these will be used for de novo assembly with B. tabaci database\n",
    "samtools view -@ 8 -bh -F 4 reads_vs_bemisia_bc92.sam > reads_vs_bemisia_bc92_mapped.bam"
   ]
  },
  {
   "cell_type": "code",
   "execution_count": null,
   "id": "aa05c165-92af-402c-a445-40fcac95b5bb",
   "metadata": {},
   "outputs": [],
   "source": [
    "# extract unmapped reads; these will be used for de novo assembly with viruses, fungi and bacteria databases\n",
    "samtools view -@ 8 -bh -f 4 reads_vs_bemisia_bc92.sam > reads_vs_bemisia_bc92_unmapped.bam"
   ]
  },
  {
   "cell_type": "code",
   "execution_count": null,
   "id": "a73959b7-cbaa-4a0b-ae56-f39e73b3a7d6",
   "metadata": {},
   "outputs": [],
   "source": [
    "# convert mapped.bam file to fastq  using `samtools fastq`\n",
    "samtools fastq reads_vs_bemisia_bc92_mapped.bam > reads_vs_bemisia_bc92_mapped.fastq\n",
    "\n",
    "# convert unmapped.bam file to fastq  using `samtools fastq`\n",
    "samtools fastq reads_vs_bemisia_bc92_unmapped.bam > reads_vs_bemisia_bc92_unmapped.fastq"
   ]
  },
  {
   "cell_type": "markdown",
   "id": "6a82af0c-ef02-421d-971e-bd83691ad7e7",
   "metadata": {},
   "source": [
    "# D. _de novo_ assembly using Flye"
   ]
  },
  {
   "cell_type": "markdown",
   "id": "12c845e0-2798-4de7-97ce-dd5aaf05abdb",
   "metadata": {},
   "source": [
    "## 1. Create working directory assembly"
   ]
  },
  {
   "cell_type": "code",
   "execution_count": null,
   "id": "d973a6c0-9c04-44be-a18e-bfa998543695",
   "metadata": {},
   "outputs": [],
   "source": [
    "# create assembly directory\n",
    "mkdir -p /scratch/whitefly_ont_sequencing/from_fastq/assembly\n",
    "cd /scratch/whitefly_ont_sequencing/from_fastq/assembly\n",
    "pwd"
   ]
  },
  {
   "cell_type": "markdown",
   "id": "3f8ee9cc-9a6b-4b7a-af10-0d9403340cd0",
   "metadata": {},
   "source": [
    "## 2. Run Flye"
   ]
  },
  {
   "cell_type": "code",
   "execution_count": null,
   "id": "23b882b5-7b67-4c33-b7f6-9ddc99876076",
   "metadata": {},
   "outputs": [],
   "source": [
    "# load Flye\n",
    "module load flye/2.9.2\n",
    "module list"
   ]
  },
  {
   "cell_type": "code",
   "execution_count": null,
   "id": "1af19775-0fe3-4d87-8cd5-8a1290ae38ff",
   "metadata": {},
   "outputs": [],
   "source": [
    "# print Flye help menu\n",
    "flye --help"
   ]
  },
  {
   "cell_type": "code",
   "execution_count": null,
   "id": "e8e72d45-52c8-4a76-8a4c-53624165b799",
   "metadata": {},
   "outputs": [],
   "source": [
    "# run Flye on mapped reads\n",
    "flye --threads 8 --nano-hq /scratch/whitefly_ont_sequencing/from_fastq/mapping/reads_vs_bemisia_bc92_mapped.fastq -o ./flye_output_bc92"
   ]
  },
  {
   "cell_type": "code",
   "execution_count": null,
   "id": "c1dacf2f-3b31-47b6-9357-027ba5c3902c",
   "metadata": {},
   "outputs": [],
   "source": [
    "# run Flye on unmapped reads\n",
    "## add time flag to record running time\n",
    "flye --threads 8 --meta --nano-hq /scratch/whitefly_ont_sequencing/from_fastq/mapping/reads_vs_bemisia_bc92_unmapped.fastq -o flye_output_bc92_meta"
   ]
  },
  {
   "cell_type": "code",
   "execution_count": null,
   "id": "df28186a-1f99-42c4-aea6-c00011d7765d",
   "metadata": {},
   "outputs": [],
   "source": [
    "# run Flye on raw reads\n",
    "## add time flag to record running time\n",
    "flye --threads 8 --meta --nano-hq /projects/medium/whitefly_ont/FASTQ/SQK-NBD114-96_barcode92.fastq -o flye_output_bc92_raw"
   ]
  },
  {
   "cell_type": "markdown",
   "id": "02da8833-0839-4eae-b36b-e2862813b2c3",
   "metadata": {},
   "source": [
    "## 3. Estimate quality of assembly (MetaQUAST)"
   ]
  },
  {
   "cell_type": "code",
   "execution_count": null,
   "id": "cd048910-066e-46b2-86bb-289c8e16898d",
   "metadata": {},
   "outputs": [],
   "source": [
    "# create quast directory\n",
    "mkdir -p /scratch/whitefly_ont_sequencing/from_fastq/quast\n",
    "cd /scratch/whitefly_ont_sequencing/from_fastq/quast\n",
    "pwd"
   ]
  },
  {
   "cell_type": "code",
   "execution_count": null,
   "id": "295e2526-2256-41d5-a263-96d79527530c",
   "metadata": {},
   "outputs": [],
   "source": [
    "# load MetaQUAST\n",
    "module load quast/5.2.0\n",
    "module list"
   ]
  },
  {
   "cell_type": "code",
   "execution_count": null,
   "id": "57a47c33-3a34-4ed8-8190-c45111a687d5",
   "metadata": {},
   "outputs": [],
   "source": [
    "# print Metaquast help menu\n",
    "metaquast.py --help"
   ]
  },
  {
   "cell_type": "code",
   "execution_count": null,
   "id": "dd5e102c-5e0a-464f-9697-144cea163162",
   "metadata": {},
   "outputs": [],
   "source": [
    "###### help menu output\n",
    "###### Usage: python /usr/local/quast-5.2.0/metaquast.py [options] <files_with_contigs>"
   ]
  },
  {
   "cell_type": "code",
   "execution_count": null,
   "id": "0103cdcc-7599-49d5-9ecd-53e9f2b63167",
   "metadata": {},
   "outputs": [],
   "source": [
    "# run MetaQUAST on assembly\n",
    "time metaquast.py /scratch/whitefly_ont_sequencing/from_fastq/assembly/flye_ouput_bc92/assembly.fasta -o quast --silent"
   ]
  },
  {
   "cell_type": "code",
   "execution_count": null,
   "id": "851fc20f-d22c-42c8-ad3b-d304a9ade4ef",
   "metadata": {},
   "outputs": [],
   "source": [
    "# run MetaQUAST on meta-assembly\n",
    "time metaquast.py /scratch/whitefly_ont_sequencing/from_fastq/assembly/flye_ouput_bc92_meta/assembly.fasta -o quast_meta --silent"
   ]
  },
  {
   "cell_type": "code",
   "execution_count": null,
   "id": "4cb940a8-7f5e-4d03-a7a7-6b68c8c375b6",
   "metadata": {},
   "outputs": [],
   "source": [
    "# compare assemblies for all Bonoua samples\n",
    "## compare assemblies for all N'Djem samples"
   ]
  },
  {
   "cell_type": "code",
   "execution_count": null,
   "id": "e2ba790c-a7f1-4856-9314-65e7c7e0d6e0",
   "metadata": {},
   "outputs": [],
   "source": [
    "# explore MetaQUAST outputs\n",
    "head -25 /scratch/whitefly_ont_sequencing/from_fastq/quast/quast/report.txt\n",
    "head -25 /scratch/whitefly_ont_sequencing/from_fastq/quast/quast_meta/report.txt"
   ]
  },
  {
   "cell_type": "code",
   "execution_count": null,
   "id": "77e3e46a-4c7f-42c2-aa55-ca3c44d9a64e",
   "metadata": {},
   "outputs": [],
   "source": [
    "# identify contigs with length > 5,000 bp\n",
    "seqtk seq -L 5000 /scratch/whitefly_ont_sequencing/from_fastq/assembly/flye_ouput_bc92/assembly.fasta\n",
    "seqtk seq -L 5000 /scratch/whitefly_ont_sequencing/from_fastq/assembly/flye_ouput_bc92_meta/assembly.fasta"
   ]
  },
  {
   "cell_type": "markdown",
   "id": "04db4afd-ba55-4f3d-9123-0bcd018cd359",
   "metadata": {},
   "source": [
    "## 4. Perform taxonomic assignation\n",
    "This first assignation will serve to sort/discard samples for which assembly yielded chimers."
   ]
  },
  {
   "cell_type": "code",
   "execution_count": null,
   "id": "24166154-c3e3-479e-aba0-ba79262e8919",
   "metadata": {},
   "outputs": [],
   "source": [
    "# load Diamond\n",
    "module load diamond/2.0.11\n",
    "module list"
   ]
  },
  {
   "cell_type": "code",
   "execution_count": null,
   "id": "63b08408-da4e-4120-abd5-cf48c5cb7415",
   "metadata": {},
   "outputs": [],
   "source": [
    "# create diamond directory\n",
    "mkdir -p /scratch/whitefly_ont_sequencing/from_fastq/diamond\n",
    "cd /scratch/whitefly_ont_sequencing/from_fastq/diamond\n",
    "pwd"
   ]
  },
  {
   "cell_type": "code",
   "execution_count": null,
   "id": "e59dd6da-65e8-41b2-998d-874f32c3a48f",
   "metadata": {},
   "outputs": [],
   "source": [
    "# create reference database for viruses\n",
    "diamond makedb --in /scratch/whitefly_ont_sequencing/from_fastq/refseq/virus.protein.faa -d virusdb"
   ]
  },
  {
   "cell_type": "code",
   "execution_count": null,
   "id": "6db543e1-dd8e-4043-acba-12ba9e323dc2",
   "metadata": {},
   "outputs": [],
   "source": [
    "#print Diamond help menu\n",
    "diamond --help"
   ]
  },
  {
   "cell_type": "code",
   "execution_count": null,
   "id": "536f01c4-5cb9-45c1-8e23-126579f21f99",
   "metadata": {},
   "outputs": [],
   "source": [
    "#launch Diamond\n",
    "diamond blastx --more-sensitive --threads 8 --log --db virusdb.dmnd --query /projects/whitefly_ont/assembly/flye_output_bc41_meta/assembly.fasta --outfmt 6 evalue score length pident mismatch gapopen stitle qtitle"
   ]
  },
  {
   "cell_type": "markdown",
   "id": "de18e878-2090-4561-bb93-89be92eb200d",
   "metadata": {},
   "source": [
    "## 5. Polish assembly with Medaka"
   ]
  },
  {
   "cell_type": "code",
   "execution_count": null,
   "id": "a70db3da-efe1-46a6-a18d-93d4f71f5c37",
   "metadata": {},
   "outputs": [],
   "source": []
  },
  {
   "cell_type": "code",
   "execution_count": null,
   "id": "8621ae38-d43b-4ea7-9525-c708b26fa4b4",
   "metadata": {},
   "outputs": [],
   "source": []
  },
  {
   "cell_type": "code",
   "execution_count": null,
   "id": "cfe74a5f-a0f3-4a46-8e63-5a5b6001e017",
   "metadata": {},
   "outputs": [],
   "source": []
  },
  {
   "cell_type": "markdown",
   "id": "666dd915-dc8d-4642-97b3-76b749892a29",
   "metadata": {},
   "source": [
    "# E. Taxonomic assignation"
   ]
  },
  {
   "cell_type": "markdown",
   "id": "e8a44c48-25f6-48b6-9bf5-1f3b4429f6ea",
   "metadata": {},
   "source": [
    "## 1. Download relevant databases"
   ]
  },
  {
   "cell_type": "code",
   "execution_count": null,
   "id": "2e198741-54d0-4f0f-8588-c362c1b35fb6",
   "metadata": {},
   "outputs": [],
   "source": [
    "# it can take several hours to download some of the large databases (e.g. bacteria)"
   ]
  },
  {
   "cell_type": "code",
   "execution_count": null,
   "id": "84e50433-db5a-456b-8c28-2149208a5026",
   "metadata": {},
   "outputs": [],
   "source": [
    "cd /scratch/whitefly_ont_sequencing/from_fastq/refseq\n",
    "pwd"
   ]
  },
  {
   "cell_type": "code",
   "execution_count": null,
   "id": "7d05fc3e-7dcc-4d95-9e14-cec56ac96351",
   "metadata": {},
   "outputs": [],
   "source": [
    "# download bacteria database\n",
    "wget -r --no-parent -A bacteria.*.genomic.fna.gz ftp://ftp.ncbi.nlm.nih.gov/refseq/release/bacteria/"
   ]
  },
  {
   "cell_type": "code",
   "execution_count": null,
   "id": "cbdf7785-139f-4f80-807b-17c8d93f639d",
   "metadata": {},
   "outputs": [],
   "source": [
    "# concatenate .fna.gz files into one\n",
    "cat /scratch/whitefly_ont_sequencing/from_fastq/refseq/ftp.ncbi.nlm.nih.gov/refseq/release/bacteria/bacteria.*.genomic.fna.gz > bacteria.genomic.fna.gz"
   ]
  },
  {
   "cell_type": "code",
   "execution_count": null,
   "id": "ae36e1af-605b-46db-971d-e60e375925c7",
   "metadata": {},
   "outputs": [],
   "source": [
    "# unzip .fna.gz (although Diamond online manual states that input protein reference database file may be gzip compressed)\n",
    "gunzip /scratch/whitefly_ont_sequencing/from_fastq/refseq/bacteria.genomic.fna.gz"
   ]
  },
  {
   "cell_type": "code",
   "execution_count": null,
   "id": "9d931cc0-87d8-41b2-a002-59f7e0fd3cb3",
   "metadata": {},
   "outputs": [],
   "source": [
    "# delete download directory\n",
    "rm -r /scratch/whitefly_ont_sequencing/from_fastq/refseq/ftp.ncbi.nlm.nih.gov/"
   ]
  },
  {
   "cell_type": "code",
   "execution_count": null,
   "id": "48b13c53-79ca-4d4b-93d4-b46ae0d7d7a2",
   "metadata": {},
   "outputs": [],
   "source": [
    "# download fungi database\n",
    "wget -r --no-parent -A fungi.*.genomic.fna.gz ftp://ftp.ncbi.nlm.nih.gov/refseq/release/fungi/"
   ]
  },
  {
   "cell_type": "code",
   "execution_count": null,
   "id": "bc1ce74a-8455-4dfa-8541-30d2c9a2ac11",
   "metadata": {},
   "outputs": [],
   "source": [
    "# concatenate .fna.gz files into one\n",
    "cat /scratch/whitefly_ont_sequencing/from_fastq/refseq/ftp.ncbi.nlm.nih.gov/refseq/release/fungi/fungi.*.genomic.fna.gz > fungi.genomic.fna.gz"
   ]
  },
  {
   "cell_type": "code",
   "execution_count": null,
   "id": "9a74613c-25dc-4607-84c4-f5d553aaaf21",
   "metadata": {},
   "outputs": [],
   "source": [
    "# unzip .fna.gz (although Diamond online manual states that input protein reference database file may be gzip compressed)\n",
    "gunzip /scratch/whitefly_ont_sequencing/from_fastq/refseq/fungi.genomic.fna.gz"
   ]
  },
  {
   "cell_type": "code",
   "execution_count": null,
   "id": "495c79fd-202e-4bdb-9e2f-70f6c38945ce",
   "metadata": {},
   "outputs": [],
   "source": [
    "# delete download directory\n",
    "rm -r /scratch/whitefly_ont_sequencing/from_fastq/refseq/ftp.ncbi.nlm.nih.gov/"
   ]
  },
  {
   "cell_type": "code",
   "execution_count": null,
   "id": "578e5864-69f0-4521-9c45-7d277dec3c32",
   "metadata": {},
   "outputs": [],
   "source": [
    "# download virus database \n",
    "## download protein database, as there are a lot of recombinants for viruses\n",
    "wget -r --no-parent https://ftp.ncbi.nlm.nih.gov/refseq/release/viral/viral.1.protein.faa.gz"
   ]
  },
  {
   "cell_type": "code",
   "execution_count": null,
   "id": "d37b11ee-6ee2-4721-a744-cab37f4a2279",
   "metadata": {},
   "outputs": [],
   "source": [
    "# unzip .fna.gz (although Diamond online manual states that input protein reference database file may be gzip compressed)\n",
    "gunzip /scratch/whitefly_ont_sequencing/from_fastq/refseq/ftp.ncbi.nlm.nih.gov/refseq/release/viral/viral.1.protein.faa.gz"
   ]
  },
  {
   "cell_type": "code",
   "execution_count": null,
   "id": "0f8c9370-5836-41d3-8924-fa9098b514f2",
   "metadata": {},
   "outputs": [],
   "source": [
    "# move and rename reference genome to refseq directory\n",
    "mv /scratch/whitefly_ont_sequencing/from_fastq/refseq/ftp.ncbi.nlm.nih.gov/refseq/release/viral/viral.1.protein.faa ./virus.protein.faa\n",
    "\n",
    "# delete download directory\n",
    "rm -r /scratch/whitefly_ont_sequencing/from_fastq/refseq/ftp.ncbi.nlm.nih.gov/"
   ]
  },
  {
   "cell_type": "markdown",
   "id": "599289a2-a8c7-4957-96a2-c4d61c40cde3",
   "metadata": {},
   "source": [
    "## 2. Create Diamond databases"
   ]
  },
  {
   "cell_type": "code",
   "execution_count": null,
   "id": "5280bc34-a4fe-4a99-b42b-3e67bc5243f6",
   "metadata": {},
   "outputs": [],
   "source": [
    "# load Diamond\n",
    "module load diamond/2.0.11\n",
    "module list"
   ]
  },
  {
   "cell_type": "code",
   "execution_count": null,
   "id": "9d3827b6-78c0-4fc8-808e-1d9bfdb211b8",
   "metadata": {},
   "outputs": [],
   "source": [
    "# create diamond directory\n",
    "mkdir -p /scratch/whitefly_ont_sequencing/from_fastq/diamond\n",
    "cd /scratch/whitefly_ont_sequencing/from_fastq/diamond\n",
    "pwd"
   ]
  },
  {
   "cell_type": "code",
   "execution_count": null,
   "id": "232adc89-c2fa-4b8c-9145-346e3a2e8617",
   "metadata": {},
   "outputs": [],
   "source": [
    "# create reference database for bacteria\n",
    "diamond makedb --in /scratch/whitefly_ont_sequencing/from_fastq/refseq/bacteria.genomic.fna -d bacteriadb"
   ]
  },
  {
   "cell_type": "code",
   "execution_count": null,
   "id": "e3b2e3df-fbe7-41aa-9c77-ecb3cd7993ae",
   "metadata": {},
   "outputs": [],
   "source": [
    "# create reference database for fungi\n",
    "diamond makedb --in /scratch/whitefly_ont_sequencing/from_fastq/refseq/fungi.genomic.fna -d fungidb"
   ]
  },
  {
   "cell_type": "code",
   "execution_count": null,
   "id": "6b795633-add9-49c7-a101-fde88ee48593",
   "metadata": {},
   "outputs": [],
   "source": [
    "# create reference database for viruses\n",
    "diamond makedb --in /scratch/whitefly_ont_sequencing/from_fastq/refseq/virus.protein.faa -d virusdb"
   ]
  }
 ],
 "metadata": {
  "kernelspec": {
   "display_name": "Bash",
   "language": "bash",
   "name": "bash"
  },
  "language_info": {
   "codemirror_mode": "shell",
   "file_extension": ".sh",
   "mimetype": "text/x-sh",
   "name": "bash"
  }
 },
 "nbformat": 4,
 "nbformat_minor": 5
}
